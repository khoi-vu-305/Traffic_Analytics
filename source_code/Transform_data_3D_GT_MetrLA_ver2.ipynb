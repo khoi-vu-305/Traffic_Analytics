{
  "cells": [
    {
      "cell_type": "markdown",
      "source": [
        "_ Thay đổi Q(t-1), Sử dụng thêm num_head --> 8"
      ],
      "metadata": {
        "id": "kEnAj7PwygFl"
      }
    },
    {
      "cell_type": "code",
      "source": [
        "!pip install dgl-cu113 dglgo -f https://data.dgl.ai/wheels/repo.html"
      ],
      "metadata": {
        "id": "eNLcMIqqB5lT",
        "colab": {
          "base_uri": "https://localhost:8080/"
        },
        "outputId": "0144e749-2790-442d-a236-3b837370f8e2"
      },
      "execution_count": 1,
      "outputs": [
        {
          "output_type": "stream",
          "name": "stdout",
          "text": [
            "Looking in links: https://data.dgl.ai/wheels/repo.html\n",
            "Collecting dgl-cu113\n",
            "  Downloading https://data.dgl.ai/wheels/dgl_cu113-0.9.1.post1-cp310-cp310-manylinux1_x86_64.whl (239.2 MB)\n",
            "\u001b[2K     \u001b[90m━━━━━━━━━━━━━━━━━━━━━━━━━━━━━━━━━━━━━━━\u001b[0m \u001b[32m239.2/239.2 MB\u001b[0m \u001b[31m5.9 MB/s\u001b[0m eta \u001b[36m0:00:00\u001b[0m\n",
            "\u001b[?25hCollecting dglgo\n",
            "  Downloading dglgo-0.0.2-py3-none-any.whl (63 kB)\n",
            "\u001b[2K     \u001b[90m━━━━━━━━━━━━━━━━━━━━━━━━━━━━━━━━━━━━━━━━\u001b[0m \u001b[32m63.5/63.5 kB\u001b[0m \u001b[31m2.1 MB/s\u001b[0m eta \u001b[36m0:00:00\u001b[0m\n",
            "\u001b[?25hRequirement already satisfied: numpy>=1.14.0 in /usr/local/lib/python3.10/dist-packages (from dgl-cu113) (1.23.5)\n",
            "Requirement already satisfied: scipy>=1.1.0 in /usr/local/lib/python3.10/dist-packages (from dgl-cu113) (1.11.3)\n",
            "Requirement already satisfied: networkx>=2.1 in /usr/local/lib/python3.10/dist-packages (from dgl-cu113) (3.1)\n",
            "Requirement already satisfied: requests>=2.19.0 in /usr/local/lib/python3.10/dist-packages (from dgl-cu113) (2.31.0)\n",
            "Requirement already satisfied: tqdm in /usr/local/lib/python3.10/dist-packages (from dgl-cu113) (4.66.1)\n",
            "Requirement already satisfied: psutil>=5.8.0 in /usr/local/lib/python3.10/dist-packages (from dgl-cu113) (5.9.5)\n",
            "Requirement already satisfied: typer>=0.4.0 in /usr/local/lib/python3.10/dist-packages (from dglgo) (0.9.0)\n",
            "Collecting isort>=5.10.1 (from dglgo)\n",
            "  Downloading isort-5.12.0-py3-none-any.whl (91 kB)\n",
            "\u001b[2K     \u001b[90m━━━━━━━━━━━━━━━━━━━━━━━━━━━━━━━━━━━━━━━━\u001b[0m \u001b[32m91.2/91.2 kB\u001b[0m \u001b[31m6.5 MB/s\u001b[0m eta \u001b[36m0:00:00\u001b[0m\n",
            "\u001b[?25hCollecting autopep8>=1.6.0 (from dglgo)\n",
            "  Downloading autopep8-2.0.4-py2.py3-none-any.whl (45 kB)\n",
            "\u001b[2K     \u001b[90m━━━━━━━━━━━━━━━━━━━━━━━━━━━━━━━━━━━━━━━━\u001b[0m \u001b[32m45.3/45.3 kB\u001b[0m \u001b[31m5.6 MB/s\u001b[0m eta \u001b[36m0:00:00\u001b[0m\n",
            "\u001b[?25hCollecting numpydoc>=1.1.0 (from dglgo)\n",
            "  Downloading numpydoc-1.6.0-py3-none-any.whl (61 kB)\n",
            "\u001b[2K     \u001b[90m━━━━━━━━━━━━━━━━━━━━━━━━━━━━━━━━━━━━━━━━\u001b[0m \u001b[32m61.7/61.7 kB\u001b[0m \u001b[31m8.1 MB/s\u001b[0m eta \u001b[36m0:00:00\u001b[0m\n",
            "\u001b[?25hRequirement already satisfied: pydantic>=1.9.0 in /usr/local/lib/python3.10/dist-packages (from dglgo) (1.10.13)\n",
            "Collecting ruamel.yaml>=0.17.20 (from dglgo)\n",
            "  Downloading ruamel.yaml-0.17.35-py3-none-any.whl (112 kB)\n",
            "\u001b[2K     \u001b[90m━━━━━━━━━━━━━━━━━━━━━━━━━━━━━━━━━━━━━━━\u001b[0m \u001b[32m112.9/112.9 kB\u001b[0m \u001b[31m8.4 MB/s\u001b[0m eta \u001b[36m0:00:00\u001b[0m\n",
            "\u001b[?25hRequirement already satisfied: PyYAML>=5.1 in /usr/local/lib/python3.10/dist-packages (from dglgo) (6.0.1)\n",
            "Collecting ogb>=1.3.3 (from dglgo)\n",
            "  Downloading ogb-1.3.6-py3-none-any.whl (78 kB)\n",
            "\u001b[2K     \u001b[90m━━━━━━━━━━━━━━━━━━━━━━━━━━━━━━━━━━━━━━━━\u001b[0m \u001b[32m78.8/78.8 kB\u001b[0m \u001b[31m8.8 MB/s\u001b[0m eta \u001b[36m0:00:00\u001b[0m\n",
            "\u001b[?25hCollecting rdkit-pypi (from dglgo)\n",
            "  Downloading rdkit_pypi-2022.9.5-cp310-cp310-manylinux_2_17_x86_64.manylinux2014_x86_64.whl (29.4 MB)\n",
            "\u001b[2K     \u001b[90m━━━━━━━━━━━━━━━━━━━━━━━━━━━━━━━━━━━━━━━━\u001b[0m \u001b[32m29.4/29.4 MB\u001b[0m \u001b[31m35.7 MB/s\u001b[0m eta \u001b[36m0:00:00\u001b[0m\n",
            "\u001b[?25hRequirement already satisfied: scikit-learn>=0.20.0 in /usr/local/lib/python3.10/dist-packages (from dglgo) (1.2.2)\n",
            "Collecting pycodestyle>=2.10.0 (from autopep8>=1.6.0->dglgo)\n",
            "  Downloading pycodestyle-2.11.0-py2.py3-none-any.whl (31 kB)\n",
            "Requirement already satisfied: tomli in /usr/local/lib/python3.10/dist-packages (from autopep8>=1.6.0->dglgo) (2.0.1)\n",
            "Requirement already satisfied: sphinx>=5 in /usr/local/lib/python3.10/dist-packages (from numpydoc>=1.1.0->dglgo) (5.0.2)\n",
            "Requirement already satisfied: Jinja2>=2.10 in /usr/local/lib/python3.10/dist-packages (from numpydoc>=1.1.0->dglgo) (3.1.2)\n",
            "Requirement already satisfied: tabulate>=0.8.10 in /usr/local/lib/python3.10/dist-packages (from numpydoc>=1.1.0->dglgo) (0.9.0)\n",
            "Requirement already satisfied: torch>=1.6.0 in /usr/local/lib/python3.10/dist-packages (from ogb>=1.3.3->dglgo) (2.0.1+cu118)\n",
            "Requirement already satisfied: pandas>=0.24.0 in /usr/local/lib/python3.10/dist-packages (from ogb>=1.3.3->dglgo) (1.5.3)\n",
            "Requirement already satisfied: six>=1.12.0 in /usr/local/lib/python3.10/dist-packages (from ogb>=1.3.3->dglgo) (1.16.0)\n",
            "Requirement already satisfied: urllib3>=1.24.0 in /usr/local/lib/python3.10/dist-packages (from ogb>=1.3.3->dglgo) (2.0.5)\n",
            "Collecting outdated>=0.2.0 (from ogb>=1.3.3->dglgo)\n",
            "  Downloading outdated-0.2.2-py2.py3-none-any.whl (7.5 kB)\n",
            "Requirement already satisfied: typing-extensions>=4.2.0 in /usr/local/lib/python3.10/dist-packages (from pydantic>=1.9.0->dglgo) (4.5.0)\n",
            "Requirement already satisfied: charset-normalizer<4,>=2 in /usr/local/lib/python3.10/dist-packages (from requests>=2.19.0->dgl-cu113) (3.2.0)\n",
            "Requirement already satisfied: idna<4,>=2.5 in /usr/local/lib/python3.10/dist-packages (from requests>=2.19.0->dgl-cu113) (3.4)\n",
            "Requirement already satisfied: certifi>=2017.4.17 in /usr/local/lib/python3.10/dist-packages (from requests>=2.19.0->dgl-cu113) (2023.7.22)\n",
            "Collecting ruamel.yaml.clib>=0.2.7 (from ruamel.yaml>=0.17.20->dglgo)\n",
            "  Downloading ruamel.yaml.clib-0.2.8-cp310-cp310-manylinux_2_17_x86_64.manylinux2014_x86_64.manylinux_2_24_x86_64.whl (526 kB)\n",
            "\u001b[2K     \u001b[90m━━━━━━━━━━━━━━━━━━━━━━━━━━━━━━━━━━━━━━\u001b[0m \u001b[32m526.7/526.7 kB\u001b[0m \u001b[31m44.1 MB/s\u001b[0m eta \u001b[36m0:00:00\u001b[0m\n",
            "\u001b[?25hRequirement already satisfied: joblib>=1.1.1 in /usr/local/lib/python3.10/dist-packages (from scikit-learn>=0.20.0->dglgo) (1.3.2)\n",
            "Requirement already satisfied: threadpoolctl>=2.0.0 in /usr/local/lib/python3.10/dist-packages (from scikit-learn>=0.20.0->dglgo) (3.2.0)\n",
            "Requirement already satisfied: click<9.0.0,>=7.1.1 in /usr/local/lib/python3.10/dist-packages (from typer>=0.4.0->dglgo) (8.1.7)\n",
            "Requirement already satisfied: Pillow in /usr/local/lib/python3.10/dist-packages (from rdkit-pypi->dglgo) (9.4.0)\n",
            "Requirement already satisfied: MarkupSafe>=2.0 in /usr/local/lib/python3.10/dist-packages (from Jinja2>=2.10->numpydoc>=1.1.0->dglgo) (2.1.3)\n",
            "Requirement already satisfied: setuptools>=44 in /usr/local/lib/python3.10/dist-packages (from outdated>=0.2.0->ogb>=1.3.3->dglgo) (67.7.2)\n",
            "Collecting littleutils (from outdated>=0.2.0->ogb>=1.3.3->dglgo)\n",
            "  Downloading littleutils-0.2.2.tar.gz (6.6 kB)\n",
            "  Preparing metadata (setup.py) ... \u001b[?25l\u001b[?25hdone\n",
            "Requirement already satisfied: python-dateutil>=2.8.1 in /usr/local/lib/python3.10/dist-packages (from pandas>=0.24.0->ogb>=1.3.3->dglgo) (2.8.2)\n",
            "Requirement already satisfied: pytz>=2020.1 in /usr/local/lib/python3.10/dist-packages (from pandas>=0.24.0->ogb>=1.3.3->dglgo) (2023.3.post1)\n",
            "Requirement already satisfied: sphinxcontrib-applehelp in /usr/local/lib/python3.10/dist-packages (from sphinx>=5->numpydoc>=1.1.0->dglgo) (1.0.7)\n",
            "Requirement already satisfied: sphinxcontrib-devhelp in /usr/local/lib/python3.10/dist-packages (from sphinx>=5->numpydoc>=1.1.0->dglgo) (1.0.5)\n",
            "Requirement already satisfied: sphinxcontrib-jsmath in /usr/local/lib/python3.10/dist-packages (from sphinx>=5->numpydoc>=1.1.0->dglgo) (1.0.1)\n",
            "Requirement already satisfied: sphinxcontrib-htmlhelp>=2.0.0 in /usr/local/lib/python3.10/dist-packages (from sphinx>=5->numpydoc>=1.1.0->dglgo) (2.0.4)\n",
            "Requirement already satisfied: sphinxcontrib-serializinghtml>=1.1.5 in /usr/local/lib/python3.10/dist-packages (from sphinx>=5->numpydoc>=1.1.0->dglgo) (1.1.9)\n",
            "Requirement already satisfied: sphinxcontrib-qthelp in /usr/local/lib/python3.10/dist-packages (from sphinx>=5->numpydoc>=1.1.0->dglgo) (1.0.6)\n",
            "Requirement already satisfied: Pygments>=2.0 in /usr/local/lib/python3.10/dist-packages (from sphinx>=5->numpydoc>=1.1.0->dglgo) (2.16.1)\n",
            "Requirement already satisfied: docutils<0.19,>=0.14 in /usr/local/lib/python3.10/dist-packages (from sphinx>=5->numpydoc>=1.1.0->dglgo) (0.18.1)\n",
            "Requirement already satisfied: snowballstemmer>=1.1 in /usr/local/lib/python3.10/dist-packages (from sphinx>=5->numpydoc>=1.1.0->dglgo) (2.2.0)\n",
            "Requirement already satisfied: babel>=1.3 in /usr/local/lib/python3.10/dist-packages (from sphinx>=5->numpydoc>=1.1.0->dglgo) (2.12.1)\n",
            "Requirement already satisfied: alabaster<0.8,>=0.7 in /usr/local/lib/python3.10/dist-packages (from sphinx>=5->numpydoc>=1.1.0->dglgo) (0.7.13)\n",
            "Requirement already satisfied: imagesize in /usr/local/lib/python3.10/dist-packages (from sphinx>=5->numpydoc>=1.1.0->dglgo) (1.4.1)\n",
            "Requirement already satisfied: packaging in /usr/local/lib/python3.10/dist-packages (from sphinx>=5->numpydoc>=1.1.0->dglgo) (23.1)\n",
            "Requirement already satisfied: filelock in /usr/local/lib/python3.10/dist-packages (from torch>=1.6.0->ogb>=1.3.3->dglgo) (3.12.4)\n",
            "Requirement already satisfied: sympy in /usr/local/lib/python3.10/dist-packages (from torch>=1.6.0->ogb>=1.3.3->dglgo) (1.12)\n",
            "Requirement already satisfied: triton==2.0.0 in /usr/local/lib/python3.10/dist-packages (from torch>=1.6.0->ogb>=1.3.3->dglgo) (2.0.0)\n",
            "Requirement already satisfied: cmake in /usr/local/lib/python3.10/dist-packages (from triton==2.0.0->torch>=1.6.0->ogb>=1.3.3->dglgo) (3.27.5)\n",
            "Requirement already satisfied: lit in /usr/local/lib/python3.10/dist-packages (from triton==2.0.0->torch>=1.6.0->ogb>=1.3.3->dglgo) (17.0.1)\n",
            "Requirement already satisfied: mpmath>=0.19 in /usr/local/lib/python3.10/dist-packages (from sympy->torch>=1.6.0->ogb>=1.3.3->dglgo) (1.3.0)\n",
            "Building wheels for collected packages: littleutils\n",
            "  Building wheel for littleutils (setup.py) ... \u001b[?25l\u001b[?25hdone\n",
            "  Created wheel for littleutils: filename=littleutils-0.2.2-py3-none-any.whl size=7028 sha256=84766e5f9fdd7f8196264f0cebff91e4e100da836594f94686c39d919b234203\n",
            "  Stored in directory: /root/.cache/pip/wheels/3d/fe/b0/27a9892da57472e538c7452a721a9cf463cc03cf7379889266\n",
            "Successfully built littleutils\n",
            "Installing collected packages: littleutils, ruamel.yaml.clib, rdkit-pypi, pycodestyle, isort, ruamel.yaml, outdated, dgl-cu113, autopep8, ogb, numpydoc, dglgo\n",
            "Successfully installed autopep8-2.0.4 dgl-cu113-0.9.1.post1 dglgo-0.0.2 isort-5.12.0 littleutils-0.2.2 numpydoc-1.6.0 ogb-1.3.6 outdated-0.2.2 pycodestyle-2.11.0 rdkit-pypi-2022.9.5 ruamel.yaml-0.17.35 ruamel.yaml.clib-0.2.8\n"
          ]
        }
      ]
    },
    {
      "cell_type": "code",
      "execution_count": 2,
      "metadata": {
        "id": "6M8q_xkh4_Du",
        "colab": {
          "base_uri": "https://localhost:8080/"
        },
        "outputId": "4b5203b5-78d9-4ebe-c020-b3ee7e6546d0"
      },
      "outputs": [
        {
          "output_type": "stream",
          "name": "stderr",
          "text": [
            "DGL backend not selected or invalid.  Assuming PyTorch for now.\n"
          ]
        },
        {
          "output_type": "stream",
          "name": "stdout",
          "text": [
            "Setting the default backend to \"pytorch\". You can change it in the ~/.dgl/config.json file or export the DGLBACKEND environment variable.  Valid options are: pytorch, mxnet, tensorflow (all lowercase)\n"
          ]
        },
        {
          "output_type": "execute_result",
          "data": {
            "text/plain": [
              "<torch._C.Generator at 0x7dc7001850b0>"
            ]
          },
          "metadata": {},
          "execution_count": 2
        }
      ],
      "source": [
        "import dgl\n",
        "import dgl.nn as dgl_nn\n",
        "import dgl.function as dgl_func\n",
        "import torch\n",
        "import torch.nn as nn\n",
        "import torch.nn.functional as F\n",
        "import networkx as nx\n",
        "#from GraphTransformer.layer import *\n",
        "#from metra import *\n",
        "#from utils import *\n",
        "from tqdm.notebook import tqdm\n",
        "from IPython.display import clear_output\n",
        "import scipy.sparse as sp\n",
        "import math\n",
        "import zipfile\n",
        "\n",
        "import os\n",
        "import ssl\n",
        "from six.moves import urllib\n",
        "import torch\n",
        "import numpy as np\n",
        "from torch.utils.data import Dataset, DataLoader\n",
        "\n",
        "torch.manual_seed(123)"
      ]
    },
    {
      "cell_type": "markdown",
      "source": [
        "## Dataset"
      ],
      "metadata": {
        "id": "5gduSM83Eb4O"
      }
    },
    {
      "cell_type": "code",
      "source": [
        "def download_file(dataset):\n",
        "    print(\"Start Downloading data: {}\".format(dataset))\n",
        "    url = \"https://s3.us-west-2.amazonaws.com/dgl-data/dataset/{}\".format(\n",
        "        dataset)\n",
        "    print(\"Start Downloading File....\")\n",
        "    context = ssl._create_unverified_context()\n",
        "    data = urllib.request.urlopen(url, context=context)\n",
        "    with open(\"./data/{}\".format(dataset), \"wb\") as handle:\n",
        "        handle.write(data.read())\n",
        "\n",
        "\n",
        "class SnapShotDataset():\n",
        "    def __init__(self, path, npz_file):\n",
        "        if not os.path.exists(path+'/'+npz_file):\n",
        "            if not os.path.exists(path):\n",
        "                os.mkdir(path)\n",
        "            download_file(npz_file)\n",
        "        zipfile = np.load(path+'/'+npz_file)\n",
        "        self.x = zipfile['x']\n",
        "        self.y = zipfile['y']\n",
        "\n",
        "    def __len__(self):\n",
        "        return len(self.x)\n",
        "\n",
        "    def __getitem__(self, idx):\n",
        "        if torch.is_tensor(idx):\n",
        "            idx = idx.tolist()\n",
        "\n",
        "        return self.x[idx, ...], self.y[idx, ...]\n",
        "\n",
        "\n",
        "def METR_LAGraphDataset():\n",
        "    if not os.path.exists('data/graph_la.bin'):\n",
        "        if not os.path.exists('data'):\n",
        "            os.mkdir('data')\n",
        "        download_file('graph_la.bin')\n",
        "    g, _ = dgl.load_graphs('data/graph_la.bin')\n",
        "    return g[0]\n",
        "\n",
        "\n",
        "class METR_LATrainDataset(SnapShotDataset):\n",
        "    def __init__(self):\n",
        "        super(METR_LATrainDataset, self).__init__('data', 'metr_la_train.npz')\n",
        "        #self.mean = self.x[..., 0].mean()\n",
        "        #self.std = self.x[..., 0].std()\n",
        "        print(self.x.shape)\n",
        "        self.mean = np.mean(self.x, axis = (0,1,2))\n",
        "        self.std = np.std(self.x, axis = (0,1,2))\n",
        "\n",
        "\n",
        "class METR_LATestDataset(SnapShotDataset):\n",
        "    def __init__(self):\n",
        "        super(METR_LATestDataset, self).__init__('data', 'metr_la_test.npz')\n",
        "\n",
        "\n",
        "class METR_LAValidDataset(SnapShotDataset):\n",
        "    def __init__(self):\n",
        "        super(METR_LAValidDataset, self).__init__('data', 'metr_la_valid.npz')\n",
        "\n",
        "\n",
        "def PEMS_BAYGraphDataset():\n",
        "    if not os.path.exists('data/graph_bay.bin'):\n",
        "        if not os.path.exists('data'):\n",
        "            os.mkdir('data')\n",
        "        download_file('graph_bay.bin')\n",
        "    g, _ = dgl.load_graphs('data/graph_bay.bin')\n",
        "    return g[0]\n",
        "\n",
        "\n",
        "class PEMS_BAYTrainDataset(SnapShotDataset):\n",
        "    def __init__(self):\n",
        "        super(PEMS_BAYTrainDataset, self).__init__(\n",
        "            'data', 'pems_bay_train.npz')\n",
        "        self.mean = np.mean(self.x, axis = (0,1,2))\n",
        "\n",
        "        self.std = np.std(self.x, axis = (0,1,2))\n",
        "\n",
        "\n",
        "class PEMS_BAYTestDataset(SnapShotDataset):\n",
        "    def __init__(self):\n",
        "        super(PEMS_BAYTestDataset, self).__init__('data', 'pems_bay_test.npz')\n",
        "\n",
        "\n",
        "class PEMS_BAYValidDataset(SnapShotDataset):\n",
        "    def __init__(self):\n",
        "        super(PEMS_BAYValidDataset, self).__init__(\n",
        "            'data', 'pems_bay_valid.npz')"
      ],
      "metadata": {
        "id": "gag0dvcs8IrE"
      },
      "execution_count": 3,
      "outputs": []
    },
    {
      "cell_type": "code",
      "source": [
        "for idx, (x, y) in enumerate(train_loader):\n",
        "  data_node_0 = x[0,:,0,:] # data_x tại vị trí = 0, tất cả sequence, node = 0\n",
        "  data_node_0_y = y[0,:,0,:] # data_y tại vị trí = 0, tất cả sequence, node = 0\n",
        "  print(data_node_0)\n",
        "  print('-------')\n",
        "  print(data_node_0_y)\n",
        "  break"
      ],
      "metadata": {
        "colab": {
          "base_uri": "https://localhost:8080/"
        },
        "id": "NFXdS5h7FzN0",
        "outputId": "d02188ce-e85c-4864-f2f4-3e60615d81e2"
      },
      "execution_count": null,
      "outputs": [
        {
          "output_type": "stream",
          "name": "stdout",
          "text": [
            "tensor([[65.7500,  0.4931],\n",
            "        [65.1111,  0.4965],\n",
            "        [63.0000,  0.5000],\n",
            "        [65.6667,  0.5035],\n",
            "        [67.7500,  0.5069],\n",
            "        [66.8750,  0.5104],\n",
            "        [65.6250,  0.5139],\n",
            "        [65.3333,  0.5174],\n",
            "        [64.7500,  0.5208],\n",
            "        [63.6250,  0.5243],\n",
            "        [61.5556,  0.5278],\n",
            "        [63.8750,  0.5312]], dtype=torch.float64)\n",
            "-------\n",
            "tensor([[63.4444,  0.5347],\n",
            "        [64.8750,  0.5382],\n",
            "        [64.0000,  0.5417],\n",
            "        [62.3333,  0.5451],\n",
            "        [63.3750,  0.5486],\n",
            "        [61.5556,  0.5521],\n",
            "        [61.1250,  0.5556],\n",
            "        [59.4444,  0.5590],\n",
            "        [61.6250,  0.5625],\n",
            "        [63.5000,  0.5660],\n",
            "        [64.8889,  0.5694],\n",
            "        [61.3750,  0.5729]], dtype=torch.float64)\n"
          ]
        }
      ]
    },
    {
      "cell_type": "markdown",
      "source": [
        "## Model"
      ],
      "metadata": {
        "id": "1DOOUogfEn1F"
      }
    },
    {
      "cell_type": "markdown",
      "source": [
        "### Attention and Transformer Blocks"
      ],
      "metadata": {
        "id": "zwTx59yM9cU1"
      }
    },
    {
      "cell_type": "code",
      "source": [
        "class MultiHeadAttention(nn.Module):\n",
        "    def __init__(self, in_dim, dim, num_head, bias):\n",
        "        super().__init__()\n",
        "        assert dim % num_head == 0, \"Unexpected embedding dimension\"\n",
        "\n",
        "        self.head_dim = dim // num_head\n",
        "        self.num_head = num_head\n",
        "        self.scale = 1./(dim ** (0.5))\n",
        "\n",
        "        self.Wq_c = nn.Linear(in_dim, dim, bias=bias)\n",
        "        self.Wq_p = nn.Linear(in_dim, dim, bias=bias)\n",
        "        self.Wk = nn.Linear(in_dim, dim, bias=bias)\n",
        "        self.Wv = nn.Linear(in_dim, dim, bias=bias)\n",
        "\n",
        "    def _reshape_qkv(self, q_c, q_p, k, v):\n",
        "        '''\n",
        "            q, k, v: (N, D_h * N_h)\n",
        "            return: (N, N_h, D_h)\n",
        "        '''\n",
        "        q_c = q_c.view(-1, self.num_head, self.head_dim)\n",
        "        q_p = q_p.view(-1, self.num_head, self.head_dim)\n",
        "        k = k.view(-1, self.num_head, self.head_dim)\n",
        "        v = v.view(-1, self.num_head, self.head_dim)\n",
        "        return q_c, q_p, k, v\n",
        "\n",
        "    def query_by_current_state(self, edges):\n",
        "        Q, K = edges.dst['Q_c'], edges.src['K']\n",
        "        score = (Q * K).sum(-1, keepdim = True)\n",
        "        score = score * self.scale\n",
        "        score = torch.exp(score.clamp(-5,5))\n",
        "        return {'score_c': score}\n",
        "\n",
        "    def query_by_previous_state(self, edges):\n",
        "        Q, K = edges.dst['Q_p'], edges.src['K']\n",
        "        score = (Q * K).sum(-1, keepdim = True)\n",
        "        score = score * self.scale\n",
        "        score = torch.exp(score.clamp(-5,5))\n",
        "        return {'score_p': score}\n",
        "\n",
        "    def propagate_attention(self, g):\n",
        "        g.apply_edges(self.query_by_current_state)\n",
        "        g.apply_edges(self.query_by_previous_state)\n",
        "        eids = g.edges()\n",
        "\n",
        "        g.send_and_recv(eids, message_func = dgl_func.src_mul_edge('V', 'score_c', 'V'), reduce_func= dgl_func.sum('V', 'SV_c'))\n",
        "        #g.send_and_recv(eids, message_func = dgl_fnc.copy_edge('score_c', 'score_c'), reduce_func = dgl_fnc.sum('score_c', 'z_c'))\n",
        "\n",
        "        g.send_and_recv(eids, message_func = dgl_func.src_mul_edge('V', 'score_p', 'V'), reduce_func= dgl_func.sum('V', 'SV_p'))\n",
        "        #g.send_and_recv(eids, message_func = dgl_fnc.copy_edge('score_p', 'score_p'), reduce_func = dgl_fnc.sum('score_p', 'z_p'))\n",
        "\n",
        "    def forward(self, g, h_c, h_p,W_p_weight,W_p_bias):\n",
        "        with g.local_scope():\n",
        "            self.Wq_p.load_state_dict({'weight':W_p_weight,'bias':W_p_bias}) #load weight and bias from W_c at previous state\n",
        "            Q_c, K, V, Q_p = self.Wq_c(h_c), self.Wk(h_c), self.Wv(h_c), self.Wq_p(h_p)\n",
        "            Q_c, Q_p, K, V = self._reshape_qkv(Q_c, Q_p, K, V)\n",
        "            g.ndata['Q_c'] = Q_c\n",
        "            g.ndata['Q_p'] = Q_p\n",
        "            g.ndata['K'] = K\n",
        "            g.ndata['V'] = V\n",
        "            self.propagate_attention(g)\n",
        "            h_c = g.ndata['SV_c'] #/ (g.ndata['z_c'] + torch.full_like(g.ndata['z_c'], 1e-6))\n",
        "            h_c = h_c.view(-1, self.head_dim * self.num_head)\n",
        "            h_p = g.ndata['SV_p'] #/ (g.ndata['z_p'] + torch.full_like(g.ndata['z_p'], 1e-6))\n",
        "            h_p = h_p.view(-1, self.head_dim * self.num_head)\n",
        "            return h_c, h_p\n",
        "\n",
        "class ST_Block(nn.Module):\n",
        "    def __init__(self, in_dim, out_dim, num_head, bias = True, dropout = 0.25, norm = \"LayerNorm\"):\n",
        "        super().__init__()\n",
        "        self.dropout = dropout\n",
        "        self.multihead_attention = MultiHeadAttention(in_dim, out_dim, num_head, bias)\n",
        "        self.Wo_c = nn.Linear(out_dim, in_dim, bias = bias)\n",
        "        self.Wo_p = nn.Linear(out_dim, in_dim, bias = bias)\n",
        "\n",
        "        if norm == 'LayerNorm':\n",
        "            self.norm_c = nn.LayerNorm(in_dim)\n",
        "            self.norm_p = nn.LayerNorm(in_dim)\n",
        "            self.norm_r = nn.LayerNorm(in_dim)\n",
        "        else:\n",
        "            self.norm_c = nn.BatchNorm1d(in_dim)\n",
        "            self.norm_p = nn.BatchNorm1d(in_dim)\n",
        "            self.norm_r = nn.BatchNorm1d(in_dim)\n",
        "\n",
        "        self.mlp = nn.Sequential(\n",
        "            nn.Linear(in_dim * 2, in_dim * 2),\n",
        "            nn.ReLU(),\n",
        "            nn.Linear(in_dim * 2, in_dim)\n",
        "        )\n",
        "        self.residual = nn.Linear(in_dim * 2, in_dim)\n",
        "\n",
        "    def forward(self, g, h_c, h_p, W_p_weight, W_p_bias):\n",
        "        h_r_c, h_r_p = h_c, h_p\n",
        "        h_c, h_p = self.multihead_attention(g, h_c, h_p, W_p_weight, W_p_bias)\n",
        "        W_p_weights = self.multihead_attention.Wq_c.state_dict()['weight']\n",
        "        W_p_biases = self.multihead_attention.Wq_c.state_dict()['bias']\n",
        "        h_c, h_p = self.Wo_c(h_c), self.Wo_p(h_p)\n",
        "\n",
        "        h_c = self.norm_c(h_c + h_r_c)\n",
        "        h_p = self.norm_p(h_p + h_r_p)\n",
        "\n",
        "        h = torch.cat([h_c, h_p], dim = -1)\n",
        "        h_r = self.residual(h)\n",
        "        h = self.mlp(h)\n",
        "        h = self.norm_r(h + h_r)\n",
        "        return h,W_p_weights,W_p_biases"
      ],
      "metadata": {
        "id": "jMumunba9h46"
      },
      "execution_count": 20,
      "outputs": []
    },
    {
      "cell_type": "code",
      "source": [
        "multi_attend = MultiHeadAttention(12,48,4,True)\n",
        "W_p_weight = multi_attend.Wq_p.state_dict()['weight']\n",
        "W_p_bias = multi_attend.Wq_p.state_dict()['bias']"
      ],
      "metadata": {
        "id": "BMfAFPROiOMb"
      },
      "execution_count": null,
      "outputs": []
    },
    {
      "cell_type": "code",
      "source": [
        "W_p_weight.shape"
      ],
      "metadata": {
        "colab": {
          "base_uri": "https://localhost:8080/"
        },
        "id": "f0UtdzEKrwIV",
        "outputId": "df0b37a3-2551-41c3-8e4c-fc4772956c00"
      },
      "execution_count": null,
      "outputs": [
        {
          "output_type": "execute_result",
          "data": {
            "text/plain": [
              "torch.Size([48, 12])"
            ]
          },
          "metadata": {},
          "execution_count": 19
        }
      ]
    },
    {
      "cell_type": "code",
      "source": [
        "W_p_bias.shape"
      ],
      "metadata": {
        "colab": {
          "base_uri": "https://localhost:8080/"
        },
        "id": "JwZmg2QEw1GF",
        "outputId": "becb7a10-5782-4dc7-f99e-73c4edde53d9"
      },
      "execution_count": null,
      "outputs": [
        {
          "output_type": "execute_result",
          "data": {
            "text/plain": [
              "torch.Size([48])"
            ]
          },
          "metadata": {},
          "execution_count": 20
        }
      ]
    },
    {
      "cell_type": "markdown",
      "source": [
        "### Encoder, Decoder, and Model"
      ],
      "metadata": {
        "id": "1g5Pv8xL9tQK"
      }
    },
    {
      "cell_type": "code",
      "source": [
        "class Encoder(nn.Module):\n",
        "    def __init__(self, in_dim, hidden_dim, K, dim, num_head, bias = False, norm = \"LayerNorm\", num_steps = 5):\n",
        "        super().__init__()\n",
        "        self.num_steps = num_steps\n",
        "        self.blocks = nn.ModuleList([\n",
        "            ST_Block(hidden_dim, dim, num_head, bias = bias, norm = norm)\n",
        "            for i in range(self.num_steps)\n",
        "        ])\n",
        "        self.node_embedding = nn.Linear(in_dim, hidden_dim)\n",
        "        self.pos_embedding = nn.Linear(K, hidden_dim)\n",
        "        self.hidden_dim = hidden_dim\n",
        "        self.dim = dim\n",
        "\n",
        "    def forward(self, g, H):\n",
        "        # H (num_steps, num_nodes, num_features)\n",
        "        lap_pos = g.ndata['lap_pos']\n",
        "        lap_pos = self.pos_embedding(lap_pos)\n",
        "        state = None\n",
        "        for i in range(self.num_steps):\n",
        "            h = H[i, :, :]\n",
        "            h = self.node_embedding(h) + lap_pos\n",
        "            if state is None:\n",
        "                state = torch.zeros_like(h)\n",
        "                W_p_weight = torch.zeros_like(torch.empty(self.dim,self.hidden_dim))\n",
        "                W_p_bias = torch.zeros_like(torch.empty(self.dim))\n",
        "            state,W_p_weight,W_p_bias = self.blocks[i](g, h, state, W_p_weight, W_p_bias)\n",
        "        return state\n",
        "\n",
        "\n",
        "class Decoder(nn.Module):\n",
        "    def __init__(self, out_dim, hidden_dim, K,dim, num_head, bias = False, norm = \"LayerNorm\", num_steps = 5):\n",
        "        super().__init__()\n",
        "        self.num_steps = num_steps\n",
        "        self.hidden_dim = hidden_dim\n",
        "        self.dim = dim\n",
        "        self.blocks = nn.ModuleList([\n",
        "            ST_Block(hidden_dim, dim, num_head, bias = bias, norm = norm)\n",
        "            for i in range(self.num_steps)\n",
        "        ])\n",
        "        self.node_embedding = nn.Linear(hidden_dim, hidden_dim) # load all 12 sequence = hidden_dim\n",
        "        self.pos_embedding = nn.Linear(K, hidden_dim)\n",
        "        self.output_layer = nn.Sequential(\n",
        "            nn.Linear(hidden_dim, hidden_dim),\n",
        "            nn.ReLU(),\n",
        "            nn.Linear(hidden_dim, out_dim)\n",
        "        )\n",
        "\n",
        "    def _train(self, g, encoder_output, target):\n",
        "        num_node,_ = target.shape\n",
        "        outputs = torch.zeros(self.num_steps, num_node,dtype = target.dtype, device = target.device)\n",
        "        state = encoder_output\n",
        "        h = target\n",
        "        h = self.node_embedding(h) + self.lap_pos\n",
        "        for i in range(self.num_steps):\n",
        "            if i == 0:\n",
        "              W_p_weight = torch.rand(self.dim,self.hidden_dim)\n",
        "              W_p_bias = torch.rand(self.dim)\n",
        "            state,W_p_weight,W_p_bias = self.blocks[i](g, h, state, W_p_weight, W_p_bias)\n",
        "            out = self.output_layer(state)\n",
        "            outputs[i] = out.squeeze()\n",
        "        return outputs\n",
        "\n",
        "    '''def _infer(self, g, encoder_output, last):\n",
        "        num_node, _ = last.shape\n",
        "        outputs = torch.zeros(self.num_steps, num_node, dtype = last.dtype, device = last.device)\n",
        "        state = encoder_output\n",
        "        out = None\n",
        "        for i in range(self.num_steps):\n",
        "            h = self.node_embedding(last) + self.lap_pos\n",
        "            state = self.blocks[i](g, h, state)\n",
        "            out = self.output_layer(state)\n",
        "            last = out\n",
        "            outputs[i] = out.squeeze()\n",
        "        return outputs'''\n",
        "\n",
        "    def forward(self, g, encoder_output, target):\n",
        "        lap_pos = g.ndata['lap_pos']\n",
        "        self.lap_pos = self.pos_embedding(lap_pos)\n",
        "        #target = target.unsqueeze(-1)\n",
        "        return self._train(g, encoder_output, target)\n",
        "\n",
        "class STGraphTransformers(nn.Module):\n",
        "    def __init__(self, in_dim, hidden_dim, out_dim, K, dim, num_head, bias = False, norm = \"LayerNorm\", num_encode_steps = 5, num_decode_steps = 5):\n",
        "        super().__init__()\n",
        "        self.encoder = Encoder(in_dim, hidden_dim, K,dim, num_head, bias, norm, num_encode_steps)\n",
        "        self.decoder = Decoder(out_dim ,hidden_dim, K,dim, num_head, bias, norm, num_decode_steps)\n",
        "\n",
        "        self.readout = nn.Sequential(\n",
        "            nn.Linear(hidden_dim, hidden_dim),\n",
        "            nn.Tanh(),\n",
        "            nn.Linear(hidden_dim, hidden_dim),\n",
        "            nn.Tanh(),\n",
        "            nn.Linear(hidden_dim, hidden_dim)\n",
        "        )\n",
        "    def forward(self, g, x, target):\n",
        "        state = self.encoder(g, x)\n",
        "        #last = x[-1, :, 0].unsqueeze(-1) # chỉ lấy data_x[0] vì đầu vào target có dim = 1\n",
        "        state = self.readout(state)\n",
        "        return self.decoder(g, state, target) # last is the last x in sequence -- target is y at current"
      ],
      "metadata": {
        "id": "h525bThY9xJO"
      },
      "execution_count": 21,
      "outputs": []
    },
    {
      "cell_type": "markdown",
      "source": [
        "## Load Data"
      ],
      "metadata": {
        "id": "daPjV9eoFTav"
      }
    },
    {
      "cell_type": "code",
      "source": [
        "'''def calculate_lap_pos(g, k):\n",
        "    A = sparse.coo_matrix.todense(g.adj(scipy_fmt = 'coo'))\n",
        "    A = np.array(A)\n",
        "    L = calculate_normalized_laplacian(A)\n",
        "    lap_pos = laplacian_positional_encoding(L, k)\n",
        "    lap_pos = np.real(lap_pos)\n",
        "    return lap_pos\n",
        "# Chưa có hàm calculate_normalized_laplacian --> tự viết lại'''"
      ],
      "metadata": {
        "id": "yl8zXtJvclaM"
      },
      "execution_count": null,
      "outputs": []
    },
    {
      "cell_type": "code",
      "source": [
        "def positional_encoding(g, pos_enc_dim):\n",
        "    \"\"\"\n",
        "        Graph positional encoding v/ Laplacian eigenvectors\n",
        "    \"\"\"\n",
        "\n",
        "    # Laplacian\n",
        "    A = g.adjacency_matrix_scipy(return_edge_ids=False).astype(float)\n",
        "    N = sp.diags(dgl.backend.asnumpy(g.in_degrees()).clip(1) ** -0.5, dtype=float)\n",
        "    L = sp.eye(g.number_of_nodes()) - N * A * N\n",
        "\n",
        "    # Eigenvectors with numpy\n",
        "    EigVal, EigVec = np.linalg.eig(L.toarray())\n",
        "    idx = EigVal.argsort() # increasing order\n",
        "    EigVal, EigVec = EigVal[idx], np.real(EigVec[:,idx])\n",
        "    lap_pos = torch.from_numpy(EigVec[:,1:pos_enc_dim+1]).float()\n",
        "\n",
        "    # # Eigenvectors with scipy\n",
        "    # EigVal, EigVec = sp.linalg.eigs(L, k=pos_enc_dim+1, which='SR')\n",
        "    # EigVec = EigVec[:, EigVal.argsort()] # increasing order\n",
        "    # g.ndata['pos_enc'] = torch.from_numpy(np.abs(EigVec[:,1:pos_enc_dim+1])).float()\n",
        "\n",
        "    return lap_pos"
      ],
      "metadata": {
        "id": "jxrA6jM57sMW"
      },
      "execution_count": 6,
      "outputs": []
    },
    {
      "cell_type": "code",
      "execution_count": 7,
      "metadata": {
        "id": "0V_8ohIv4_Dw",
        "colab": {
          "base_uri": "https://localhost:8080/"
        },
        "outputId": "66066a86-d9f9-4603-edc3-7148653e1bf9"
      },
      "outputs": [
        {
          "output_type": "stream",
          "name": "stdout",
          "text": [
            "Start Downloading data: graph_la.bin\n",
            "Start Downloading File....\n",
            "Start Downloading data: metr_la_train.npz\n",
            "Start Downloading File....\n",
            "(23974, 12, 207, 2)\n",
            "Start Downloading data: metr_la_test.npz\n",
            "Start Downloading File....\n",
            "Start Downloading data: metr_la_valid.npz\n",
            "Start Downloading File....\n"
          ]
        }
      ],
      "source": [
        "g = METR_LAGraphDataset()\n",
        "train_data = METR_LATrainDataset()\n",
        "test_data = METR_LATestDataset()\n",
        "valid_data = METR_LAValidDataset()\n",
        "\n",
        "#g = PEMS_BAYGraphDataset()\n",
        "#train_data = PEMS_BAYTrainDataset()\n",
        "#test_data = PEMS_BAYTestDataset()\n",
        "#valid_data = PEMS_BAYValidDataset()\n",
        "\n",
        "#tạo khuyên làm gì?\n",
        "#g = dgl.add_self_loop(g)\n",
        "\n",
        "#num_node = g.num_nodes()\n",
        "#num_edges = g.num_edges()\n",
        "\n",
        "\n",
        "#print(\"Mean: \", mean)\n",
        "#print(\"Std: \", std)\n",
        "#print(\"Num node\", num_node)\n",
        "#print(\"Num edge: \", num_edges)"
      ]
    },
    {
      "cell_type": "code",
      "source": [
        "print(\"Train size: \", len(train_data))\n",
        "print(\"Valid size: \", len(valid_data))\n",
        "print(\"Test size: \", len(test_data))"
      ],
      "metadata": {
        "colab": {
          "base_uri": "https://localhost:8080/"
        },
        "id": "5mqlYFHxDPNY",
        "outputId": "6aa15ab0-c0e2-4cd8-cf15-aa7b8f164809"
      },
      "execution_count": null,
      "outputs": [
        {
          "output_type": "stream",
          "name": "stdout",
          "text": [
            "Train size:  23974\n",
            "Valid size:  3425\n",
            "Test size:  6850\n"
          ]
        }
      ]
    },
    {
      "cell_type": "code",
      "source": [
        "lap_pos = positional_encoding(g, 100)\n",
        "#lap_pos = torch.tensor(lap_pos).float()\n",
        "g.ndata['lap_pos'] = lap_pos"
      ],
      "metadata": {
        "id": "f1Q3vI7hdo9q",
        "colab": {
          "base_uri": "https://localhost:8080/"
        },
        "outputId": "13d1ad95-8b20-470e-eecc-a12ccba2a6ab"
      },
      "execution_count": 8,
      "outputs": [
        {
          "output_type": "stream",
          "name": "stderr",
          "text": [
            "/usr/local/lib/python3.10/dist-packages/dgl/heterograph.py:3719: DGLWarning: DGLGraph.adjacency_matrix_scipy is deprecated. Please replace it with:\n",
            "\n",
            "\tDGLGraph.adjacency_matrix(transpose, scipy_fmt=\"csr\").\n",
            "\n",
            "  dgl_warning('DGLGraph.adjacency_matrix_scipy is deprecated. '\n"
          ]
        }
      ]
    },
    {
      "cell_type": "code",
      "source": [
        "# Transform data - Add thêm 1 chiều thời gian vào data\n",
        "# Make sample Time\n",
        "sample = np.array([i for i in range(1,2017)]) #5 phút 1 lần -> 7 ngày sẽ có 12*24*7 = 2016\n",
        "\n",
        "# Transform\n",
        "x_train = train_data.x\n",
        "x_valid = valid_data.x\n",
        "x_test = test_data.x\n",
        "x = np.concatenate((x_train,x_valid,x_test),axis = 0)\n",
        "num_record,seq,num_node,dim = x.shape\n",
        "x = x.reshape(num_record,seq*num_node,dim)\n",
        "\n",
        "pos = 0\n",
        "x_final = []\n",
        "for i in range(len(x)):\n",
        "  if pos == 2016:\n",
        "    pos = 0\n",
        "  k = np.c_[x[i],np.array([sample[pos]]*2484)]\n",
        "  x_final.append(k)\n",
        "  pos += 1\n",
        "x_final = np.array(x_final)\n",
        "\n",
        "x_train = x_final[0:23974,:,:]\n",
        "x_valid = x_final[23974:23974+3425,:,:]\n",
        "x_test = x_final[23974+3425:,:,:]\n",
        "x_train = x_train.reshape(23974,12,207,3)\n",
        "x_valid = x_valid.reshape(3425,12,207,3)\n",
        "x_test = x_test.reshape(6850,12,207,3)\n",
        "\n",
        "mean = np.mean(x_train,axis = (0,1,2))\n",
        "std = np.std(x_train,axis = (0,1,2))\n",
        "mean = mean.reshape(1,1,-1)\n",
        "std = std.reshape(1,1,-1)\n",
        "print('mean:',mean)\n",
        "print('std:',std)\n",
        "\n",
        "y_train = train_data.y\n",
        "y_valid = valid_data.y\n",
        "y_test = test_data.y\n",
        "\n",
        "train_data_last = list(zip(x_train,y_train))\n",
        "valid_data_last = list(zip(x_valid,y_valid))\n",
        "test_data_last = list(zip(x_test,y_test))"
      ],
      "metadata": {
        "id": "BNzSvDjMHYkx",
        "colab": {
          "base_uri": "https://localhost:8080/"
        },
        "outputId": "aebaa56e-457a-4a4d-df82-d4cc6eeac456"
      },
      "execution_count": 9,
      "outputs": [
        {
          "output_type": "stream",
          "name": "stdout",
          "text": [
            "mean: [[[5.44059283e+01 4.97214575e-01 1.00032523e+03]]]\n",
            "std: [[[1.94937393e+01 2.88928710e-01 5.78200406e+02]]]\n"
          ]
        }
      ]
    },
    {
      "cell_type": "code",
      "source": [
        "#collate_fn\n",
        "def collate_fn(batch):\n",
        "  x_list,y_list = [],[]\n",
        "  for (x,y) in batch:\n",
        "    x_list.append(x)\n",
        "    y_list.append(y)\n",
        "  x_list = np.array(x_list)\n",
        "  y_list = np.array(y_list)\n",
        "  return torch.tensor(x_list),torch.tensor(y_list)\n",
        "\n",
        "batch_size = 256"
      ],
      "metadata": {
        "id": "BSLKMsLyCHZg"
      },
      "execution_count": 10,
      "outputs": []
    },
    {
      "cell_type": "code",
      "execution_count": 11,
      "metadata": {
        "id": "984oJ9oM4_Dy"
      },
      "outputs": [],
      "source": [
        "train_loader = DataLoader(train_data_last, batch_size= batch_size, num_workers= 2, shuffle=True, collate_fn = collate_fn)\n",
        "valid_loader = DataLoader(valid_data_last, batch_size= batch_size, num_workers= 2, shuffle=False, collate_fn = collate_fn)\n",
        "test_loader  = DataLoader(test_data_last,  batch_size= batch_size, num_workers= 2, shuffle=False, collate_fn = collate_fn)"
      ]
    },
    {
      "cell_type": "code",
      "source": [
        "for idx,(x,y) in enumerate(train_loader):\n",
        "  if idx == last_train:\n",
        "    print('train_loader')\n",
        "    print(x[-1,:,-1,0],y[-1,:,-1,0])\n",
        "for idx,(x,y) in enumerate(valid_loader):\n",
        "  if idx == 0:\n",
        "    print('begin_valid')\n",
        "    print(x[0,:,-1,0],y[0,:,-1,0])\n",
        "    print()\n",
        "  elif idx == last_valid:\n",
        "    print('last_valid')\n",
        "    print(x[-1,:,-1,0],y[-1,:,-1,0])\n",
        "for idx,(x,y) in enumerate(test_loader):\n",
        "  print('begin_test')\n",
        "  print(x[0,:,-1,0],y[0,:,-1,0])\n",
        "  break\n",
        "\n",
        "# kết quả cho thấy dữ liệu là liên tục giữa 3 tập"
      ],
      "metadata": {
        "id": "uVyF9TZ-AjYN"
      },
      "execution_count": null,
      "outputs": []
    },
    {
      "cell_type": "code",
      "execution_count": 14,
      "metadata": {
        "colab": {
          "base_uri": "https://localhost:8080/"
        },
        "id": "J9WeHBTi55ge",
        "outputId": "4fde454d-469d-4e54-f0c7-6aca2c26b50b"
      },
      "outputs": [
        {
          "output_type": "stream",
          "name": "stdout",
          "text": [
            "cuda\n"
          ]
        }
      ],
      "source": [
        "device = \"cuda\" if torch.cuda.is_available() else \"cpu\"\n",
        "print(device)"
      ]
    },
    {
      "cell_type": "code",
      "source": [
        "def masked_mae_loss(y_pred, y_true,test=True):\n",
        "    mask = (y_true != 0).float()\n",
        "    mask /= mask.mean()\n",
        "    loss = torch.abs(y_pred - y_true)\n",
        "    loss = loss * mask\n",
        "    # trick for nans: https://discuss.pytorch.org/t/how-to-set-nan-in-tensor-to-0/3918/3\n",
        "    loss[loss != loss] = 0\n",
        "    loss_12 =  loss.mean()\n",
        "\n",
        "    mask_6 = (y_true[:6] != 0).float()\n",
        "    mask_6 /= mask_6.mean()\n",
        "    loss_6 = torch.abs(y_pred[:6] - y_true[:6])\n",
        "    loss_6 = loss_6 * mask_6\n",
        "    loss_6[loss_6 != loss_6] = 0\n",
        "    loss_6_ = loss_6.mean()\n",
        "\n",
        "    mask_3 = (y_true[:3] != 0).float()\n",
        "    mask_3 /= mask_3.mean()\n",
        "    loss_3 = torch.abs(y_pred[:3] - y_true[:3])\n",
        "    loss_3 = loss_3 * mask_3\n",
        "    loss_3[loss_3 != loss_3] = 0\n",
        "    loss_3_ = loss_3.mean()\n",
        "    if test == True:\n",
        "      return torch.tensor([loss_12,loss_6_,loss_3_])\n",
        "    else:\n",
        "      return loss_12\n",
        "\n",
        "def masked_mse_loss(y_pred, y_true):\n",
        "    mask = (y_true != 0).float()\n",
        "    mask /= mask.mean()\n",
        "    loss = (y_pred - y_true)**2\n",
        "    loss = loss * mask\n",
        "    # trick for nans: https://discuss.pytorch.org/t/how-to-set-nan-in-tensor-to-0/3918/3\n",
        "    loss[loss != loss] = 0\n",
        "    loss_12 = loss.mean()\n",
        "\n",
        "    mask_6 = (y_true[:6] != 0).float()\n",
        "    mask_6 /= mask_6.mean()\n",
        "    loss_6 = (y_pred[:6] - y_true[:6])**2\n",
        "    loss_6 = loss_6 * mask_6\n",
        "    loss_6[loss_6 != loss_6] = 0\n",
        "    loss_6_ = loss_6.mean()\n",
        "\n",
        "    mask_3 = (y_true[:3] != 0).float()\n",
        "    mask_3 /= mask_3.mean()\n",
        "    loss_3 = (y_pred[:3] - y_true[:3])**2\n",
        "    loss_3 = loss_3 * mask_3\n",
        "    loss_3[loss_3 != loss_3] = 0\n",
        "    loss_3_ = loss_3.mean()\n",
        "\n",
        "    return torch.tensor([loss_12,loss_6_,loss_3_])\n",
        "\n",
        "def masked_mape_loss(y_pred, y_true):\n",
        "    mask = (y_true != 0).float()\n",
        "    mask /= mask.mean()\n",
        "    loss = (y_true - y_pred).abs() / y_true.abs()\n",
        "    loss = loss * mask\n",
        "    # trick for nans: https://discuss.pytorch.org/t/how-to-set-nan-in-tensor-to-0/3918/3\n",
        "    loss[loss != loss] = 0\n",
        "    loss_12 = loss.mean()\n",
        "\n",
        "    mask_6 = (y_true[:6] != 0).float()\n",
        "    mask_6 /= mask_6.mean()\n",
        "    loss_6 = (y_pred[:6] - y_true[:6]).abs()/y_true[:6].abs()\n",
        "    loss_6 = loss_6 * mask_6\n",
        "    loss_6[loss_6 != loss_6] = 0\n",
        "    loss_6_ = loss_6.mean()\n",
        "\n",
        "    mask_3 = (y_true[:3] != 0).float()\n",
        "    mask_3 /= mask_3.mean()\n",
        "    loss_3 = (y_pred[:3] - y_true[:3]).abs()/y_true[:3].abs()\n",
        "    loss_3 = loss_3 * mask_3\n",
        "    loss_3[loss_3 != loss_3] = 0\n",
        "    loss_3_ = loss_3.mean()\n",
        "\n",
        "    return torch.tensor([loss_12,loss_6_,loss_3_])"
      ],
      "metadata": {
        "id": "gptODY8tYEIQ"
      },
      "execution_count": 12,
      "outputs": []
    },
    {
      "cell_type": "markdown",
      "source": [
        "## Load Model"
      ],
      "metadata": {
        "id": "v7tN_YUjfNpP"
      }
    },
    {
      "cell_type": "code",
      "execution_count": 22,
      "metadata": {
        "id": "convszPy4_Dz"
      },
      "outputs": [],
      "source": [
        "model = STGraphTransformers(3, 12, 1, 100,12, 1, bias = True, norm = \"LayerNorm\", num_encode_steps = 12, num_decode_steps = 12).to(device)\n",
        "optimizer = torch.optim.SGD(model.parameters(), lr = 0.0001, weight_decay = 0.001, momentum = 0.009)\n",
        "#optimizer = torch.optim.Adagrad(model.parameters())\n",
        "#optimizer = torch.optim.SGD(model.parameters(), lr = 1e-3, momentum = 0.9)\n",
        "loss_fn = masked_mae_loss"
      ]
    },
    {
      "cell_type": "code",
      "source": [
        "# Run this cell when you already have a checkpoint\n",
        "#checkpoint = torch.load('model_stt_week_day_sample.pt')\n",
        "#model.load_state_dict(checkpoint['model_state_dict'])\n",
        "#optimizer.load_state_dict(checkpoint['optimizer_state_dict'])"
      ],
      "metadata": {
        "id": "625rXIMUf5X_"
      },
      "execution_count": null,
      "outputs": []
    },
    {
      "cell_type": "code",
      "source": [
        "del model\n",
        "torch.cuda.empty_cache()"
      ],
      "metadata": {
        "id": "El6ltZ1D3Lb9"
      },
      "execution_count": null,
      "outputs": []
    },
    {
      "cell_type": "markdown",
      "source": [
        "## Train Function"
      ],
      "metadata": {
        "id": "0uXvLVNFFX2k"
      }
    },
    {
      "cell_type": "code",
      "source": [
        "\n",
        "best_loss = [100]\n",
        "'''try:\n",
        "    best_loss[0] = checkpoint['loss']\n",
        "    epoch = checkpoint['epoch']\n",
        "except:\n",
        "    best_loss[0] = 100\n",
        "    epoch = 0'''"
      ],
      "metadata": {
        "id": "9-QgCaEhGByr",
        "colab": {
          "base_uri": "https://localhost:8080/",
          "height": 36
        },
        "outputId": "a6f3523e-421b-4c41-bfa9-bc64543e9b46"
      },
      "execution_count": 16,
      "outputs": [
        {
          "output_type": "execute_result",
          "data": {
            "text/plain": [
              "\"try:\\n    best_loss[0] = checkpoint['loss']\\n    epoch = checkpoint['epoch']\\nexcept:\\n    best_loss[0] = 100\\n    epoch = 0\""
            ],
            "application/vnd.google.colaboratory.intrinsic+json": {
              "type": "string"
            }
          },
          "metadata": {},
          "execution_count": 16
        }
      ]
    },
    {
      "cell_type": "code",
      "source": [
        "print(\"Best Loss: \", best_loss[0])\n",
        "print(\"Epoch: \", epoch)"
      ],
      "metadata": {
        "colab": {
          "base_uri": "https://localhost:8080/"
        },
        "id": "C9JLoEXSDILS",
        "outputId": "0ff271f0-944a-4206-c347-cee41cd0e676"
      },
      "execution_count": null,
      "outputs": [
        {
          "output_type": "stream",
          "name": "stdout",
          "text": [
            "Best Loss:  3.422331447954531\n",
            "Epoch:  86\n"
          ]
        }
      ]
    },
    {
      "cell_type": "code",
      "source": [
        "import numpy as np\n",
        "def train_1(model, g, train_loader, lap_pos, loss_fn, optimizer, batch_size, num_samples):\n",
        "    total_loss = []\n",
        "    model.train()\n",
        "    for idx, (x, y) in tqdm(enumerate(train_loader), total = num_samples // batch_size):\n",
        "\n",
        "        lap_pos = g.ndata['lap_pos']\n",
        "        sign_flip = torch.rand(lap_pos.size(1))\n",
        "        sign_flip[sign_flip>=0.5] = 1.0; sign_flip[sign_flip<0.5] = -1.0\n",
        "        lap_pos = lap_pos * sign_flip.unsqueeze(0)\n",
        "        g.ndata['lap_pos'] = lap_pos\n",
        "\n",
        "        bs,seq_len, num_node, dim = x.shape\n",
        "\n",
        "        batch_g = dgl.batch([g] * bs).to(device)\n",
        "        # Chỉ lấy feature 0 của y để predict\n",
        "        y = y[..., 0]\n",
        "        x = x.permute(1, 0, 2, 3) # sequence, bs, num_node, dim = 3\n",
        "        y = y.permute(1, 0, 2) # vì chỉ lấy dim[0] nên chiều dim biến mất\n",
        "\n",
        "        x = x.reshape(seq_len, bs * num_node, dim).cpu().numpy()\n",
        "        y = y.reshape(seq_len, bs * num_node).cpu().numpy()\n",
        "\n",
        "        x = (x - mean) / std\n",
        "        x = torch.tensor(x).float().clone().to(device)\n",
        "        #y = torch.tensor(y).float().clone().to(device)\n",
        "        targets = x.permute(1,0,2) #num_node,seq_len,dim\n",
        "        targets = targets[...,0]\n",
        "\n",
        "        targets = torch.tensor(targets).float().clone().to(device)\n",
        "        # chiều dài targets và y là 11. với mỗi target sẽ predict y tại vị trí tương ứng\n",
        "        y = torch.tensor(y).float().clone().to(device)\n",
        "\n",
        "        optimizer.zero_grad()\n",
        "        out = model(batch_g, x, targets) # out trả về chỉ có 11 điểm (11 num_steps)\n",
        "        #out = scaler.inverse_scale(out, mean[0], std[0])\n",
        "        out = out * std[0,0,0] + mean[0,0,0]\n",
        "\n",
        "        loss = loss_fn(out, y,test = False)\n",
        "        loss.backward()\n",
        "        #torch.nn.utils.clip_grad_norm_(model.parameters(), max_norm=1)\n",
        "        optimizer.step()\n",
        "\n",
        "\n",
        "        total_loss.append(loss.detach().item())\n",
        "    return np.mean(total_loss)\n",
        "\n",
        "\n",
        "def eval_1(model, g, val_loader, lap_pos, loss_fn, batch_size, num_samples):\n",
        "    model.eval()\n",
        "    total_loss = []\n",
        "    for idx, (x, y) in tqdm(enumerate(val_loader), total = num_samples // batch_size):\n",
        "        '''\n",
        "        lap_pos = g.ndata['lap_pos']\n",
        "        sign_flip = torch.rand(lap_pos.size(1))\n",
        "        sign_flip[sign_flip>=0.5] = 1.0; sign_flip[sign_flip<0.5] = -1.0\n",
        "        lap_pos = lap_pos * sign_flip.unsqueeze(0)\n",
        "        '''\n",
        "        g.ndata['lap_pos'] = lap_pos\n",
        "\n",
        "        bs, seq_len, num_node, dim = x.shape\n",
        "\n",
        "        batch_g = dgl.batch([g] * bs).to(device)\n",
        "\n",
        "        y = y[..., 0]\n",
        "        x = x.permute(1, 0, 2, 3)\n",
        "        y = y.permute(1, 0, 2)\n",
        "\n",
        "        x = x.reshape(seq_len, bs * num_node, dim).numpy()\n",
        "        y = y.reshape(seq_len, bs * num_node).numpy()\n",
        "\n",
        "        x = (x - mean) / std\n",
        "        x = torch.tensor(x).float().clone().to(device)\n",
        "        targets = x.permute(1,0,2)\n",
        "        targets = targets[...,0]\n",
        "        #targets = y[:-1]\n",
        "        #targets = scaler.scale(targets, mean[0],std[0])\n",
        "        #targets = (targets - mean[0,0,0])/std[0,0,0]\n",
        "        #targets = torch.tensor(targets).float().clone().to(device)\n",
        "        y = torch.tensor(y).float().clone().to(device)\n",
        "\n",
        "        with torch.no_grad():\n",
        "            out = model(batch_g, x, targets).squeeze()\n",
        "        #out = scaler.inverse_scale(out, mean[0], std[0])\n",
        "        out = out * std[0,0,0] + mean[0,0,0]\n",
        "\n",
        "        loss = loss_fn(out, y,test = False)\n",
        "        #loss = torch.sqrt(loss_fn(out, y))\n",
        "        total_loss.append(loss.detach().item())\n",
        "        del loss\n",
        "\n",
        "    return np.mean(total_loss)\n",
        "\n",
        "def test_1(model, g, val_loader, lap_pos, metrics, batch_size, num_samples, num_steps):\n",
        "    model.eval()\n",
        "    total_rmse = []\n",
        "    total_rmse_6 = []\n",
        "    total_rmse_3 = []\n",
        "    total_mae = []\n",
        "    total_mae_6 = []\n",
        "    total_mae_3 = []\n",
        "    total_mape = []\n",
        "    total_mape_6 = []\n",
        "    total_mape_3 = []\n",
        "    predictions = []\n",
        "    actuals = []\n",
        "    for idx, (x, y) in tqdm(enumerate(val_loader), total = num_samples // batch_size):\n",
        "\n",
        "        g.ndata['lap_pos'] = lap_pos\n",
        "\n",
        "        bs, seq_len , num_node, dim = x.shape\n",
        "\n",
        "        batch_g = dgl.batch([g] * bs).to(device)\n",
        "\n",
        "        y = y[..., 0]\n",
        "        x = x.permute(1, 0, 2, 3)\n",
        "        y = y.permute(1, 0, 2)\n",
        "\n",
        "        x = x.reshape(seq_len, bs * num_node, dim).cpu().numpy()\n",
        "        y = y.reshape(seq_len, bs * num_node).cpu().numpy()\n",
        "\n",
        "        x = (x - mean) / std\n",
        "\n",
        "        x = torch.tensor(x).float().clone().to(device)\n",
        "        targets = x.permute(1,0,2)\n",
        "        targets = targets[...,0]\n",
        "        y = torch.tensor(y).float().clone().to(device)\n",
        "\n",
        "        with torch.no_grad():\n",
        "            out = model(batch_g, x, targets).squeeze()\n",
        "        out = out * std[0,0,0] + mean[0,0,0]\n",
        "        # num_steps_out = 11 vì lấy block trước predict block sau\n",
        "\n",
        "        #mae = metrics['mae'](out, y).detach().item()\n",
        "        mae = metrics['mae'](out, y)[0].detach()\n",
        "        mae_6 = metrics['mae'](out, y)[1].detach()\n",
        "        mae_3 = metrics['mae'](out, y)[2].detach()\n",
        "        rmse = torch.sqrt(metrics['mse'](out, y)[0]).detach()\n",
        "        rmse_6 = torch.sqrt(metrics['mse'](out, y)[1]).detach()\n",
        "        rmse_3 = torch.sqrt(metrics['mse'](out, y)[2]).detach()\n",
        "        mape = metrics['mape'](out, y)[0].detach()\n",
        "        mape_6 = metrics['mape'](out, y)[1].detach()\n",
        "        mape_3 = metrics['mape'](out, y)[2].detach()\n",
        "\n",
        "        total_mae.append(mae)\n",
        "        total_mae_6.append(mae_6)\n",
        "        total_mae_3.append(mae_3)\n",
        "        total_rmse.append(rmse)\n",
        "        total_rmse_6.append(rmse_6)\n",
        "        total_rmse_3.append(rmse_3)\n",
        "        total_mape.append(mape)\n",
        "        total_mape_6.append(mape_6)\n",
        "        total_mape_3.append(mape_3)\n",
        "\n",
        "        out = out.detach().cpu().numpy().reshape(num_steps, bs, num_node)\n",
        "        y = y.detach().cpu().numpy().reshape(num_steps, bs, num_node)\n",
        "\n",
        "        out = np.transpose(out, axes = (1, 2, 0))\n",
        "        y = np.transpose(y, axes = (1, 2, 0))\n",
        "\n",
        "        predictions += out[:, -1, :].tolist()\n",
        "        actuals += y[:, -1, :].tolist()\n",
        "\n",
        "    return np.mean(total_mae), np.mean(total_mae_6), np.mean(total_mae_3), np.mean(total_rmse), np.mean(total_rmse_6), np.mean(total_rmse_3), np.mean(total_mape), np.mean(total_mape_6), np.mean(total_mape_3), predictions, actuals\n"
      ],
      "metadata": {
        "id": "xMsNped0-AtE"
      },
      "execution_count": 17,
      "outputs": []
    },
    {
      "cell_type": "markdown",
      "source": [
        "## Train"
      ],
      "metadata": {
        "id": "IA7wc90s_RMA"
      }
    },
    {
      "cell_type": "code",
      "source": [
        "epoch = 1\n",
        "print(\"Best Loss\", best_loss[0])\n",
        "for e in range(1):\n",
        "    print(\"Epoch: \", epoch + e)\n",
        "    print(\"Best Validation Loss\", best_loss[0])\n",
        "    tmp_loss = best_loss[0]\n",
        "    train_loss = train_1(model, g, train_loader, lap_pos, loss_fn, optimizer, batch_size, len(train_data))\n",
        "    val_loss = eval_1(model, g, valid_loader, lap_pos, loss_fn, batch_size, len(valid_data))\n",
        "    #print(\"Train Loss: {}\".format(train_loss))\n",
        "    print(\"Train Loss: {}, Val Loss: {}\".format(train_loss, val_loss))\n",
        "\n",
        "    if best_loss[0] > val_loss:\n",
        "        best_loss[0] = val_loss\n",
        "        torch.save({\n",
        "                'epoch' : epoch + e,\n",
        "                'model_state_dict': model.state_dict(),\n",
        "                'optimizer_state_dict': optimizer.state_dict(),\n",
        "                'loss' : val_loss,\n",
        "                }, '/content/drive/MyDrive/AISIA/TrafficNet/Development/Best/model_Transform_data_3d_gt.pt')\n",
        "        print(\"------------- Saved model ------------\")\n",
        "    print()\n"
      ],
      "metadata": {
        "id": "pyPvL4_j_Exf",
        "colab": {
          "base_uri": "https://localhost:8080/",
          "height": 563,
          "referenced_widgets": [
            "cf78dd8c2cd74006b50366db7eaec3fb",
            "a355d12d83bf4b58b53d6c3a1e3d43e7",
            "d33379ca9876484880ce5f47066c3691",
            "c4ab52667a11432facc10f10a8d64684",
            "fd215032cdab4f6ea31afef6ce61bf1b",
            "6b1b7509ac964584a53e95e6c337800c",
            "fef5632b01d54f1d857297668d13626e",
            "a7aa28ffd3244dbdb3de866771b8483e",
            "aebdfbc58e86446db743c58798cba0f6",
            "5275dfd433a74d889debe4a1ac3d20cd",
            "1f1dc98474034f6da647c698cb956a63"
          ]
        },
        "outputId": "179e3653-dcd0-4a62-9f54-24edb6a1a87a"
      },
      "execution_count": 23,
      "outputs": [
        {
          "output_type": "stream",
          "name": "stdout",
          "text": [
            "Best Loss 100\n",
            "Epoch:  1\n",
            "Best Validation Loss 100\n"
          ]
        },
        {
          "output_type": "display_data",
          "data": {
            "text/plain": [
              "  0%|          | 0/93 [00:00<?, ?it/s]"
            ],
            "application/vnd.jupyter.widget-view+json": {
              "version_major": 2,
              "version_minor": 0,
              "model_id": "cf78dd8c2cd74006b50366db7eaec3fb"
            }
          },
          "metadata": {}
        },
        {
          "output_type": "stream",
          "name": "stderr",
          "text": [
            "<ipython-input-17-d4a3a532da84>:30: UserWarning: To copy construct from a tensor, it is recommended to use sourceTensor.clone().detach() or sourceTensor.clone().detach().requires_grad_(True), rather than torch.tensor(sourceTensor).\n",
            "  targets = torch.tensor(targets).float().clone().to(device)\n",
            "/usr/local/lib/python3.10/dist-packages/dgl/backend/pytorch/tensor.py:352: UserWarning: TypedStorage is deprecated. It will be removed in the future and UntypedStorage will be the only storage class. This should only matter to you if you are using storages directly.  To access UntypedStorage directly, use tensor.untyped_storage() instead of tensor.storage()\n",
            "  assert input.numel() == input.storage().size(), \"Cannot convert view \" \\\n"
          ]
        },
        {
          "output_type": "error",
          "ename": "KeyboardInterrupt",
          "evalue": "ignored",
          "traceback": [
            "\u001b[0;31m---------------------------------------------------------------------------\u001b[0m",
            "\u001b[0;31mKeyboardInterrupt\u001b[0m                         Traceback (most recent call last)",
            "\u001b[0;32m<ipython-input-23-fdc02cd10f5c>\u001b[0m in \u001b[0;36m<cell line: 3>\u001b[0;34m()\u001b[0m\n\u001b[1;32m      5\u001b[0m     \u001b[0mprint\u001b[0m\u001b[0;34m(\u001b[0m\u001b[0;34m\"Best Validation Loss\"\u001b[0m\u001b[0;34m,\u001b[0m \u001b[0mbest_loss\u001b[0m\u001b[0;34m[\u001b[0m\u001b[0;36m0\u001b[0m\u001b[0;34m]\u001b[0m\u001b[0;34m)\u001b[0m\u001b[0;34m\u001b[0m\u001b[0;34m\u001b[0m\u001b[0m\n\u001b[1;32m      6\u001b[0m     \u001b[0mtmp_loss\u001b[0m \u001b[0;34m=\u001b[0m \u001b[0mbest_loss\u001b[0m\u001b[0;34m[\u001b[0m\u001b[0;36m0\u001b[0m\u001b[0;34m]\u001b[0m\u001b[0;34m\u001b[0m\u001b[0;34m\u001b[0m\u001b[0m\n\u001b[0;32m----> 7\u001b[0;31m     \u001b[0mtrain_loss\u001b[0m \u001b[0;34m=\u001b[0m \u001b[0mtrain_1\u001b[0m\u001b[0;34m(\u001b[0m\u001b[0mmodel\u001b[0m\u001b[0;34m,\u001b[0m \u001b[0mg\u001b[0m\u001b[0;34m,\u001b[0m \u001b[0mtrain_loader\u001b[0m\u001b[0;34m,\u001b[0m \u001b[0mlap_pos\u001b[0m\u001b[0;34m,\u001b[0m \u001b[0mloss_fn\u001b[0m\u001b[0;34m,\u001b[0m \u001b[0moptimizer\u001b[0m\u001b[0;34m,\u001b[0m \u001b[0mbatch_size\u001b[0m\u001b[0;34m,\u001b[0m \u001b[0mlen\u001b[0m\u001b[0;34m(\u001b[0m\u001b[0mtrain_data\u001b[0m\u001b[0;34m)\u001b[0m\u001b[0;34m)\u001b[0m\u001b[0;34m\u001b[0m\u001b[0;34m\u001b[0m\u001b[0m\n\u001b[0m\u001b[1;32m      8\u001b[0m     \u001b[0mval_loss\u001b[0m \u001b[0;34m=\u001b[0m \u001b[0meval_1\u001b[0m\u001b[0;34m(\u001b[0m\u001b[0mmodel\u001b[0m\u001b[0;34m,\u001b[0m \u001b[0mg\u001b[0m\u001b[0;34m,\u001b[0m \u001b[0mvalid_loader\u001b[0m\u001b[0;34m,\u001b[0m \u001b[0mlap_pos\u001b[0m\u001b[0;34m,\u001b[0m \u001b[0mloss_fn\u001b[0m\u001b[0;34m,\u001b[0m \u001b[0mbatch_size\u001b[0m\u001b[0;34m,\u001b[0m \u001b[0mlen\u001b[0m\u001b[0;34m(\u001b[0m\u001b[0mvalid_data\u001b[0m\u001b[0;34m)\u001b[0m\u001b[0;34m)\u001b[0m\u001b[0;34m\u001b[0m\u001b[0;34m\u001b[0m\u001b[0m\n\u001b[1;32m      9\u001b[0m     \u001b[0;31m#print(\"Train Loss: {}\".format(train_loss))\u001b[0m\u001b[0;34m\u001b[0m\u001b[0;34m\u001b[0m\u001b[0m\n",
            "\u001b[0;32m<ipython-input-17-d4a3a532da84>\u001b[0m in \u001b[0;36mtrain_1\u001b[0;34m(model, g, train_loader, lap_pos, loss_fn, optimizer, batch_size, num_samples)\u001b[0m\n\u001b[1;32m     33\u001b[0m \u001b[0;34m\u001b[0m\u001b[0m\n\u001b[1;32m     34\u001b[0m         \u001b[0moptimizer\u001b[0m\u001b[0;34m.\u001b[0m\u001b[0mzero_grad\u001b[0m\u001b[0;34m(\u001b[0m\u001b[0;34m)\u001b[0m\u001b[0;34m\u001b[0m\u001b[0;34m\u001b[0m\u001b[0m\n\u001b[0;32m---> 35\u001b[0;31m         \u001b[0mout\u001b[0m \u001b[0;34m=\u001b[0m \u001b[0mmodel\u001b[0m\u001b[0;34m(\u001b[0m\u001b[0mbatch_g\u001b[0m\u001b[0;34m,\u001b[0m \u001b[0mx\u001b[0m\u001b[0;34m,\u001b[0m \u001b[0mtargets\u001b[0m\u001b[0;34m)\u001b[0m \u001b[0;31m# out trả về chỉ có 11 điểm (11 num_steps)\u001b[0m\u001b[0;34m\u001b[0m\u001b[0;34m\u001b[0m\u001b[0m\n\u001b[0m\u001b[1;32m     36\u001b[0m         \u001b[0;31m#out = scaler.inverse_scale(out, mean[0], std[0])\u001b[0m\u001b[0;34m\u001b[0m\u001b[0;34m\u001b[0m\u001b[0m\n\u001b[1;32m     37\u001b[0m         \u001b[0mout\u001b[0m \u001b[0;34m=\u001b[0m \u001b[0mout\u001b[0m \u001b[0;34m*\u001b[0m \u001b[0mstd\u001b[0m\u001b[0;34m[\u001b[0m\u001b[0;36m0\u001b[0m\u001b[0;34m,\u001b[0m\u001b[0;36m0\u001b[0m\u001b[0;34m,\u001b[0m\u001b[0;36m0\u001b[0m\u001b[0;34m]\u001b[0m \u001b[0;34m+\u001b[0m \u001b[0mmean\u001b[0m\u001b[0;34m[\u001b[0m\u001b[0;36m0\u001b[0m\u001b[0;34m,\u001b[0m\u001b[0;36m0\u001b[0m\u001b[0;34m,\u001b[0m\u001b[0;36m0\u001b[0m\u001b[0;34m]\u001b[0m\u001b[0;34m\u001b[0m\u001b[0;34m\u001b[0m\u001b[0m\n",
            "\u001b[0;32m/usr/local/lib/python3.10/dist-packages/torch/nn/modules/module.py\u001b[0m in \u001b[0;36m_call_impl\u001b[0;34m(self, *args, **kwargs)\u001b[0m\n\u001b[1;32m   1499\u001b[0m                 \u001b[0;32mor\u001b[0m \u001b[0m_global_backward_pre_hooks\u001b[0m \u001b[0;32mor\u001b[0m \u001b[0m_global_backward_hooks\u001b[0m\u001b[0;34m\u001b[0m\u001b[0;34m\u001b[0m\u001b[0m\n\u001b[1;32m   1500\u001b[0m                 or _global_forward_hooks or _global_forward_pre_hooks):\n\u001b[0;32m-> 1501\u001b[0;31m             \u001b[0;32mreturn\u001b[0m \u001b[0mforward_call\u001b[0m\u001b[0;34m(\u001b[0m\u001b[0;34m*\u001b[0m\u001b[0margs\u001b[0m\u001b[0;34m,\u001b[0m \u001b[0;34m**\u001b[0m\u001b[0mkwargs\u001b[0m\u001b[0;34m)\u001b[0m\u001b[0;34m\u001b[0m\u001b[0;34m\u001b[0m\u001b[0m\n\u001b[0m\u001b[1;32m   1502\u001b[0m         \u001b[0;31m# Do not call functions when jit is used\u001b[0m\u001b[0;34m\u001b[0m\u001b[0;34m\u001b[0m\u001b[0m\n\u001b[1;32m   1503\u001b[0m         \u001b[0mfull_backward_hooks\u001b[0m\u001b[0;34m,\u001b[0m \u001b[0mnon_full_backward_hooks\u001b[0m \u001b[0;34m=\u001b[0m \u001b[0;34m[\u001b[0m\u001b[0;34m]\u001b[0m\u001b[0;34m,\u001b[0m \u001b[0;34m[\u001b[0m\u001b[0;34m]\u001b[0m\u001b[0;34m\u001b[0m\u001b[0;34m\u001b[0m\u001b[0m\n",
            "\u001b[0;32m<ipython-input-21-860a6c982c7d>\u001b[0m in \u001b[0;36mforward\u001b[0;34m(self, g, x, target)\u001b[0m\n\u001b[1;32m     94\u001b[0m         )\n\u001b[1;32m     95\u001b[0m     \u001b[0;32mdef\u001b[0m \u001b[0mforward\u001b[0m\u001b[0;34m(\u001b[0m\u001b[0mself\u001b[0m\u001b[0;34m,\u001b[0m \u001b[0mg\u001b[0m\u001b[0;34m,\u001b[0m \u001b[0mx\u001b[0m\u001b[0;34m,\u001b[0m \u001b[0mtarget\u001b[0m\u001b[0;34m)\u001b[0m\u001b[0;34m:\u001b[0m\u001b[0;34m\u001b[0m\u001b[0;34m\u001b[0m\u001b[0m\n\u001b[0;32m---> 96\u001b[0;31m         \u001b[0mstate\u001b[0m \u001b[0;34m=\u001b[0m \u001b[0mself\u001b[0m\u001b[0;34m.\u001b[0m\u001b[0mencoder\u001b[0m\u001b[0;34m(\u001b[0m\u001b[0mg\u001b[0m\u001b[0;34m,\u001b[0m \u001b[0mx\u001b[0m\u001b[0;34m)\u001b[0m\u001b[0;34m\u001b[0m\u001b[0;34m\u001b[0m\u001b[0m\n\u001b[0m\u001b[1;32m     97\u001b[0m         \u001b[0;31m#last = x[-1, :, 0].unsqueeze(-1) # chỉ lấy data_x[0] vì đầu vào target có dim = 1\u001b[0m\u001b[0;34m\u001b[0m\u001b[0;34m\u001b[0m\u001b[0m\n\u001b[1;32m     98\u001b[0m         \u001b[0mstate\u001b[0m \u001b[0;34m=\u001b[0m \u001b[0mself\u001b[0m\u001b[0;34m.\u001b[0m\u001b[0mreadout\u001b[0m\u001b[0;34m(\u001b[0m\u001b[0mstate\u001b[0m\u001b[0;34m)\u001b[0m\u001b[0;34m\u001b[0m\u001b[0;34m\u001b[0m\u001b[0m\n",
            "\u001b[0;32m/usr/local/lib/python3.10/dist-packages/torch/nn/modules/module.py\u001b[0m in \u001b[0;36m_call_impl\u001b[0;34m(self, *args, **kwargs)\u001b[0m\n\u001b[1;32m   1499\u001b[0m                 \u001b[0;32mor\u001b[0m \u001b[0m_global_backward_pre_hooks\u001b[0m \u001b[0;32mor\u001b[0m \u001b[0m_global_backward_hooks\u001b[0m\u001b[0;34m\u001b[0m\u001b[0;34m\u001b[0m\u001b[0m\n\u001b[1;32m   1500\u001b[0m                 or _global_forward_hooks or _global_forward_pre_hooks):\n\u001b[0;32m-> 1501\u001b[0;31m             \u001b[0;32mreturn\u001b[0m \u001b[0mforward_call\u001b[0m\u001b[0;34m(\u001b[0m\u001b[0;34m*\u001b[0m\u001b[0margs\u001b[0m\u001b[0;34m,\u001b[0m \u001b[0;34m**\u001b[0m\u001b[0mkwargs\u001b[0m\u001b[0;34m)\u001b[0m\u001b[0;34m\u001b[0m\u001b[0;34m\u001b[0m\u001b[0m\n\u001b[0m\u001b[1;32m   1502\u001b[0m         \u001b[0;31m# Do not call functions when jit is used\u001b[0m\u001b[0;34m\u001b[0m\u001b[0;34m\u001b[0m\u001b[0m\n\u001b[1;32m   1503\u001b[0m         \u001b[0mfull_backward_hooks\u001b[0m\u001b[0;34m,\u001b[0m \u001b[0mnon_full_backward_hooks\u001b[0m \u001b[0;34m=\u001b[0m \u001b[0;34m[\u001b[0m\u001b[0;34m]\u001b[0m\u001b[0;34m,\u001b[0m \u001b[0;34m[\u001b[0m\u001b[0;34m]\u001b[0m\u001b[0;34m\u001b[0m\u001b[0;34m\u001b[0m\u001b[0m\n",
            "\u001b[0;32m<ipython-input-21-860a6c982c7d>\u001b[0m in \u001b[0;36mforward\u001b[0;34m(self, g, H)\u001b[0m\n\u001b[1;32m     24\u001b[0m                 \u001b[0mW_p_weight\u001b[0m \u001b[0;34m=\u001b[0m \u001b[0mtorch\u001b[0m\u001b[0;34m.\u001b[0m\u001b[0mzeros_like\u001b[0m\u001b[0;34m(\u001b[0m\u001b[0mtorch\u001b[0m\u001b[0;34m.\u001b[0m\u001b[0mempty\u001b[0m\u001b[0;34m(\u001b[0m\u001b[0mself\u001b[0m\u001b[0;34m.\u001b[0m\u001b[0mdim\u001b[0m\u001b[0;34m,\u001b[0m\u001b[0mself\u001b[0m\u001b[0;34m.\u001b[0m\u001b[0mhidden_dim\u001b[0m\u001b[0;34m)\u001b[0m\u001b[0;34m)\u001b[0m\u001b[0;34m\u001b[0m\u001b[0;34m\u001b[0m\u001b[0m\n\u001b[1;32m     25\u001b[0m                 \u001b[0mW_p_bias\u001b[0m \u001b[0;34m=\u001b[0m \u001b[0mtorch\u001b[0m\u001b[0;34m.\u001b[0m\u001b[0mzeros_like\u001b[0m\u001b[0;34m(\u001b[0m\u001b[0mtorch\u001b[0m\u001b[0;34m.\u001b[0m\u001b[0mempty\u001b[0m\u001b[0;34m(\u001b[0m\u001b[0mself\u001b[0m\u001b[0;34m.\u001b[0m\u001b[0mdim\u001b[0m\u001b[0;34m)\u001b[0m\u001b[0;34m)\u001b[0m\u001b[0;34m\u001b[0m\u001b[0;34m\u001b[0m\u001b[0m\n\u001b[0;32m---> 26\u001b[0;31m             \u001b[0mstate\u001b[0m\u001b[0;34m,\u001b[0m\u001b[0mW_p_weight\u001b[0m\u001b[0;34m,\u001b[0m\u001b[0mW_p_bias\u001b[0m \u001b[0;34m=\u001b[0m \u001b[0mself\u001b[0m\u001b[0;34m.\u001b[0m\u001b[0mblocks\u001b[0m\u001b[0;34m[\u001b[0m\u001b[0mi\u001b[0m\u001b[0;34m]\u001b[0m\u001b[0;34m(\u001b[0m\u001b[0mg\u001b[0m\u001b[0;34m,\u001b[0m \u001b[0mh\u001b[0m\u001b[0;34m,\u001b[0m \u001b[0mstate\u001b[0m\u001b[0;34m,\u001b[0m \u001b[0mW_p_weight\u001b[0m\u001b[0;34m,\u001b[0m \u001b[0mW_p_bias\u001b[0m\u001b[0;34m)\u001b[0m\u001b[0;34m\u001b[0m\u001b[0;34m\u001b[0m\u001b[0m\n\u001b[0m\u001b[1;32m     27\u001b[0m         \u001b[0;32mreturn\u001b[0m \u001b[0mstate\u001b[0m\u001b[0;34m\u001b[0m\u001b[0;34m\u001b[0m\u001b[0m\n\u001b[1;32m     28\u001b[0m \u001b[0;34m\u001b[0m\u001b[0m\n",
            "\u001b[0;32m/usr/local/lib/python3.10/dist-packages/torch/nn/modules/module.py\u001b[0m in \u001b[0;36m_call_impl\u001b[0;34m(self, *args, **kwargs)\u001b[0m\n\u001b[1;32m   1499\u001b[0m                 \u001b[0;32mor\u001b[0m \u001b[0m_global_backward_pre_hooks\u001b[0m \u001b[0;32mor\u001b[0m \u001b[0m_global_backward_hooks\u001b[0m\u001b[0;34m\u001b[0m\u001b[0;34m\u001b[0m\u001b[0m\n\u001b[1;32m   1500\u001b[0m                 or _global_forward_hooks or _global_forward_pre_hooks):\n\u001b[0;32m-> 1501\u001b[0;31m             \u001b[0;32mreturn\u001b[0m \u001b[0mforward_call\u001b[0m\u001b[0;34m(\u001b[0m\u001b[0;34m*\u001b[0m\u001b[0margs\u001b[0m\u001b[0;34m,\u001b[0m \u001b[0;34m**\u001b[0m\u001b[0mkwargs\u001b[0m\u001b[0;34m)\u001b[0m\u001b[0;34m\u001b[0m\u001b[0;34m\u001b[0m\u001b[0m\n\u001b[0m\u001b[1;32m   1502\u001b[0m         \u001b[0;31m# Do not call functions when jit is used\u001b[0m\u001b[0;34m\u001b[0m\u001b[0;34m\u001b[0m\u001b[0m\n\u001b[1;32m   1503\u001b[0m         \u001b[0mfull_backward_hooks\u001b[0m\u001b[0;34m,\u001b[0m \u001b[0mnon_full_backward_hooks\u001b[0m \u001b[0;34m=\u001b[0m \u001b[0;34m[\u001b[0m\u001b[0;34m]\u001b[0m\u001b[0;34m,\u001b[0m \u001b[0;34m[\u001b[0m\u001b[0;34m]\u001b[0m\u001b[0;34m\u001b[0m\u001b[0;34m\u001b[0m\u001b[0m\n",
            "\u001b[0;32m<ipython-input-20-c34c07114c02>\u001b[0m in \u001b[0;36mforward\u001b[0;34m(self, g, h_c, h_p, W_p_weight, W_p_bias)\u001b[0m\n\u001b[1;32m     91\u001b[0m     \u001b[0;32mdef\u001b[0m \u001b[0mforward\u001b[0m\u001b[0;34m(\u001b[0m\u001b[0mself\u001b[0m\u001b[0;34m,\u001b[0m \u001b[0mg\u001b[0m\u001b[0;34m,\u001b[0m \u001b[0mh_c\u001b[0m\u001b[0;34m,\u001b[0m \u001b[0mh_p\u001b[0m\u001b[0;34m,\u001b[0m \u001b[0mW_p_weight\u001b[0m\u001b[0;34m,\u001b[0m \u001b[0mW_p_bias\u001b[0m\u001b[0;34m)\u001b[0m\u001b[0;34m:\u001b[0m\u001b[0;34m\u001b[0m\u001b[0;34m\u001b[0m\u001b[0m\n\u001b[1;32m     92\u001b[0m         \u001b[0mh_r_c\u001b[0m\u001b[0;34m,\u001b[0m \u001b[0mh_r_p\u001b[0m \u001b[0;34m=\u001b[0m \u001b[0mh_c\u001b[0m\u001b[0;34m,\u001b[0m \u001b[0mh_p\u001b[0m\u001b[0;34m\u001b[0m\u001b[0;34m\u001b[0m\u001b[0m\n\u001b[0;32m---> 93\u001b[0;31m         \u001b[0mh_c\u001b[0m\u001b[0;34m,\u001b[0m \u001b[0mh_p\u001b[0m \u001b[0;34m=\u001b[0m \u001b[0mself\u001b[0m\u001b[0;34m.\u001b[0m\u001b[0mmultihead_attention\u001b[0m\u001b[0;34m(\u001b[0m\u001b[0mg\u001b[0m\u001b[0;34m,\u001b[0m \u001b[0mh_c\u001b[0m\u001b[0;34m,\u001b[0m \u001b[0mh_p\u001b[0m\u001b[0;34m,\u001b[0m \u001b[0mW_p_weight\u001b[0m\u001b[0;34m,\u001b[0m \u001b[0mW_p_bias\u001b[0m\u001b[0;34m)\u001b[0m\u001b[0;34m\u001b[0m\u001b[0;34m\u001b[0m\u001b[0m\n\u001b[0m\u001b[1;32m     94\u001b[0m         \u001b[0mW_p_weights\u001b[0m \u001b[0;34m=\u001b[0m \u001b[0mself\u001b[0m\u001b[0;34m.\u001b[0m\u001b[0mmultihead_attention\u001b[0m\u001b[0;34m.\u001b[0m\u001b[0mWq_c\u001b[0m\u001b[0;34m.\u001b[0m\u001b[0mstate_dict\u001b[0m\u001b[0;34m(\u001b[0m\u001b[0;34m)\u001b[0m\u001b[0;34m[\u001b[0m\u001b[0;34m'weight'\u001b[0m\u001b[0;34m]\u001b[0m\u001b[0;34m\u001b[0m\u001b[0;34m\u001b[0m\u001b[0m\n\u001b[1;32m     95\u001b[0m         \u001b[0mW_p_biases\u001b[0m \u001b[0;34m=\u001b[0m \u001b[0mself\u001b[0m\u001b[0;34m.\u001b[0m\u001b[0mmultihead_attention\u001b[0m\u001b[0;34m.\u001b[0m\u001b[0mWq_c\u001b[0m\u001b[0;34m.\u001b[0m\u001b[0mstate_dict\u001b[0m\u001b[0;34m(\u001b[0m\u001b[0;34m)\u001b[0m\u001b[0;34m[\u001b[0m\u001b[0;34m'bias'\u001b[0m\u001b[0;34m]\u001b[0m\u001b[0;34m\u001b[0m\u001b[0;34m\u001b[0m\u001b[0m\n",
            "\u001b[0;32m/usr/local/lib/python3.10/dist-packages/torch/nn/modules/module.py\u001b[0m in \u001b[0;36m_call_impl\u001b[0;34m(self, *args, **kwargs)\u001b[0m\n\u001b[1;32m   1499\u001b[0m                 \u001b[0;32mor\u001b[0m \u001b[0m_global_backward_pre_hooks\u001b[0m \u001b[0;32mor\u001b[0m \u001b[0m_global_backward_hooks\u001b[0m\u001b[0;34m\u001b[0m\u001b[0;34m\u001b[0m\u001b[0m\n\u001b[1;32m   1500\u001b[0m                 or _global_forward_hooks or _global_forward_pre_hooks):\n\u001b[0;32m-> 1501\u001b[0;31m             \u001b[0;32mreturn\u001b[0m \u001b[0mforward_call\u001b[0m\u001b[0;34m(\u001b[0m\u001b[0;34m*\u001b[0m\u001b[0margs\u001b[0m\u001b[0;34m,\u001b[0m \u001b[0;34m**\u001b[0m\u001b[0mkwargs\u001b[0m\u001b[0;34m)\u001b[0m\u001b[0;34m\u001b[0m\u001b[0;34m\u001b[0m\u001b[0m\n\u001b[0m\u001b[1;32m   1502\u001b[0m         \u001b[0;31m# Do not call functions when jit is used\u001b[0m\u001b[0;34m\u001b[0m\u001b[0;34m\u001b[0m\u001b[0m\n\u001b[1;32m   1503\u001b[0m         \u001b[0mfull_backward_hooks\u001b[0m\u001b[0;34m,\u001b[0m \u001b[0mnon_full_backward_hooks\u001b[0m \u001b[0;34m=\u001b[0m \u001b[0;34m[\u001b[0m\u001b[0;34m]\u001b[0m\u001b[0;34m,\u001b[0m \u001b[0;34m[\u001b[0m\u001b[0;34m]\u001b[0m\u001b[0;34m\u001b[0m\u001b[0;34m\u001b[0m\u001b[0m\n",
            "\u001b[0;32m<ipython-input-20-c34c07114c02>\u001b[0m in \u001b[0;36mforward\u001b[0;34m(self, g, h_c, h_p, W_p_weight, W_p_bias)\u001b[0m\n\u001b[1;32m     52\u001b[0m         \u001b[0;32mwith\u001b[0m \u001b[0mg\u001b[0m\u001b[0;34m.\u001b[0m\u001b[0mlocal_scope\u001b[0m\u001b[0;34m(\u001b[0m\u001b[0;34m)\u001b[0m\u001b[0;34m:\u001b[0m\u001b[0;34m\u001b[0m\u001b[0;34m\u001b[0m\u001b[0m\n\u001b[1;32m     53\u001b[0m             \u001b[0mself\u001b[0m\u001b[0;34m.\u001b[0m\u001b[0mWq_p\u001b[0m\u001b[0;34m.\u001b[0m\u001b[0mload_state_dict\u001b[0m\u001b[0;34m(\u001b[0m\u001b[0;34m{\u001b[0m\u001b[0;34m'weight'\u001b[0m\u001b[0;34m:\u001b[0m\u001b[0mW_p_weight\u001b[0m\u001b[0;34m,\u001b[0m\u001b[0;34m'bias'\u001b[0m\u001b[0;34m:\u001b[0m\u001b[0mW_p_bias\u001b[0m\u001b[0;34m}\u001b[0m\u001b[0;34m)\u001b[0m \u001b[0;31m#load weight and bias from W_c at previous state\u001b[0m\u001b[0;34m\u001b[0m\u001b[0;34m\u001b[0m\u001b[0m\n\u001b[0;32m---> 54\u001b[0;31m             \u001b[0mQ_c\u001b[0m\u001b[0;34m,\u001b[0m \u001b[0mK\u001b[0m\u001b[0;34m,\u001b[0m \u001b[0mV\u001b[0m\u001b[0;34m,\u001b[0m \u001b[0mQ_p\u001b[0m \u001b[0;34m=\u001b[0m \u001b[0mself\u001b[0m\u001b[0;34m.\u001b[0m\u001b[0mWq_c\u001b[0m\u001b[0;34m(\u001b[0m\u001b[0mh_c\u001b[0m\u001b[0;34m)\u001b[0m\u001b[0;34m,\u001b[0m \u001b[0mself\u001b[0m\u001b[0;34m.\u001b[0m\u001b[0mWk\u001b[0m\u001b[0;34m(\u001b[0m\u001b[0mh_c\u001b[0m\u001b[0;34m)\u001b[0m\u001b[0;34m,\u001b[0m \u001b[0mself\u001b[0m\u001b[0;34m.\u001b[0m\u001b[0mWv\u001b[0m\u001b[0;34m(\u001b[0m\u001b[0mh_c\u001b[0m\u001b[0;34m)\u001b[0m\u001b[0;34m,\u001b[0m \u001b[0mself\u001b[0m\u001b[0;34m.\u001b[0m\u001b[0mWq_p\u001b[0m\u001b[0;34m(\u001b[0m\u001b[0mh_p\u001b[0m\u001b[0;34m)\u001b[0m\u001b[0;34m\u001b[0m\u001b[0;34m\u001b[0m\u001b[0m\n\u001b[0m\u001b[1;32m     55\u001b[0m             \u001b[0mQ_c\u001b[0m\u001b[0;34m,\u001b[0m \u001b[0mQ_p\u001b[0m\u001b[0;34m,\u001b[0m \u001b[0mK\u001b[0m\u001b[0;34m,\u001b[0m \u001b[0mV\u001b[0m \u001b[0;34m=\u001b[0m \u001b[0mself\u001b[0m\u001b[0;34m.\u001b[0m\u001b[0m_reshape_qkv\u001b[0m\u001b[0;34m(\u001b[0m\u001b[0mQ_c\u001b[0m\u001b[0;34m,\u001b[0m \u001b[0mQ_p\u001b[0m\u001b[0;34m,\u001b[0m \u001b[0mK\u001b[0m\u001b[0;34m,\u001b[0m \u001b[0mV\u001b[0m\u001b[0;34m)\u001b[0m\u001b[0;34m\u001b[0m\u001b[0;34m\u001b[0m\u001b[0m\n\u001b[1;32m     56\u001b[0m             \u001b[0mg\u001b[0m\u001b[0;34m.\u001b[0m\u001b[0mndata\u001b[0m\u001b[0;34m[\u001b[0m\u001b[0;34m'Q_c'\u001b[0m\u001b[0;34m]\u001b[0m \u001b[0;34m=\u001b[0m \u001b[0mQ_c\u001b[0m\u001b[0;34m\u001b[0m\u001b[0;34m\u001b[0m\u001b[0m\n",
            "\u001b[0;32m/usr/local/lib/python3.10/dist-packages/torch/nn/modules/module.py\u001b[0m in \u001b[0;36m_call_impl\u001b[0;34m(self, *args, **kwargs)\u001b[0m\n\u001b[1;32m   1499\u001b[0m                 \u001b[0;32mor\u001b[0m \u001b[0m_global_backward_pre_hooks\u001b[0m \u001b[0;32mor\u001b[0m \u001b[0m_global_backward_hooks\u001b[0m\u001b[0;34m\u001b[0m\u001b[0;34m\u001b[0m\u001b[0m\n\u001b[1;32m   1500\u001b[0m                 or _global_forward_hooks or _global_forward_pre_hooks):\n\u001b[0;32m-> 1501\u001b[0;31m             \u001b[0;32mreturn\u001b[0m \u001b[0mforward_call\u001b[0m\u001b[0;34m(\u001b[0m\u001b[0;34m*\u001b[0m\u001b[0margs\u001b[0m\u001b[0;34m,\u001b[0m \u001b[0;34m**\u001b[0m\u001b[0mkwargs\u001b[0m\u001b[0;34m)\u001b[0m\u001b[0;34m\u001b[0m\u001b[0;34m\u001b[0m\u001b[0m\n\u001b[0m\u001b[1;32m   1502\u001b[0m         \u001b[0;31m# Do not call functions when jit is used\u001b[0m\u001b[0;34m\u001b[0m\u001b[0;34m\u001b[0m\u001b[0m\n\u001b[1;32m   1503\u001b[0m         \u001b[0mfull_backward_hooks\u001b[0m\u001b[0;34m,\u001b[0m \u001b[0mnon_full_backward_hooks\u001b[0m \u001b[0;34m=\u001b[0m \u001b[0;34m[\u001b[0m\u001b[0;34m]\u001b[0m\u001b[0;34m,\u001b[0m \u001b[0;34m[\u001b[0m\u001b[0;34m]\u001b[0m\u001b[0;34m\u001b[0m\u001b[0;34m\u001b[0m\u001b[0m\n",
            "\u001b[0;32m/usr/local/lib/python3.10/dist-packages/torch/nn/modules/linear.py\u001b[0m in \u001b[0;36mforward\u001b[0;34m(self, input)\u001b[0m\n\u001b[1;32m    112\u001b[0m \u001b[0;34m\u001b[0m\u001b[0m\n\u001b[1;32m    113\u001b[0m     \u001b[0;32mdef\u001b[0m \u001b[0mforward\u001b[0m\u001b[0;34m(\u001b[0m\u001b[0mself\u001b[0m\u001b[0;34m,\u001b[0m \u001b[0minput\u001b[0m\u001b[0;34m:\u001b[0m \u001b[0mTensor\u001b[0m\u001b[0;34m)\u001b[0m \u001b[0;34m->\u001b[0m \u001b[0mTensor\u001b[0m\u001b[0;34m:\u001b[0m\u001b[0;34m\u001b[0m\u001b[0;34m\u001b[0m\u001b[0m\n\u001b[0;32m--> 114\u001b[0;31m         \u001b[0;32mreturn\u001b[0m \u001b[0mF\u001b[0m\u001b[0;34m.\u001b[0m\u001b[0mlinear\u001b[0m\u001b[0;34m(\u001b[0m\u001b[0minput\u001b[0m\u001b[0;34m,\u001b[0m \u001b[0mself\u001b[0m\u001b[0;34m.\u001b[0m\u001b[0mweight\u001b[0m\u001b[0;34m,\u001b[0m \u001b[0mself\u001b[0m\u001b[0;34m.\u001b[0m\u001b[0mbias\u001b[0m\u001b[0;34m)\u001b[0m\u001b[0;34m\u001b[0m\u001b[0;34m\u001b[0m\u001b[0m\n\u001b[0m\u001b[1;32m    115\u001b[0m \u001b[0;34m\u001b[0m\u001b[0m\n\u001b[1;32m    116\u001b[0m     \u001b[0;32mdef\u001b[0m \u001b[0mextra_repr\u001b[0m\u001b[0;34m(\u001b[0m\u001b[0mself\u001b[0m\u001b[0;34m)\u001b[0m \u001b[0;34m->\u001b[0m \u001b[0mstr\u001b[0m\u001b[0;34m:\u001b[0m\u001b[0;34m\u001b[0m\u001b[0;34m\u001b[0m\u001b[0m\n",
            "\u001b[0;31mKeyboardInterrupt\u001b[0m: "
          ]
        }
      ]
    },
    {
      "cell_type": "markdown",
      "source": [
        "## Test"
      ],
      "metadata": {
        "id": "pFrbKTMQVhsG"
      }
    },
    {
      "cell_type": "code",
      "source": [
        "# Run this cell to load the model that is saved during training\n",
        "checkpoint = torch.load('/content/drive/MyDrive/AISIA/TrafficNet/Development/Best/model_Transform_data_3d_gt.pt',map_location=device) #mo hinh gan seq-12 x h\n",
        "model.load_state_dict(checkpoint['model_state_dict'])\n",
        "optimizer.load_state_dict(checkpoint['optimizer_state_dict'])\n",
        "epoch = checkpoint['epoch']\n",
        "loss = checkpoint['loss']\n",
        "model.eval()\n",
        "'''try:\n",
        "    best_loss[0] = checkpoint['loss']\n",
        "    epoch = checkpoint['epoch']\n",
        "except:\n",
        "    best_loss[0] = 100\n",
        "    epoch = 100'''"
      ],
      "metadata": {
        "id": "85q-9KGrYOk_",
        "colab": {
          "base_uri": "https://localhost:8080/",
          "height": 35
        },
        "outputId": "5a90ee2e-a6a2-4430-f704-818fcb3e6d2c"
      },
      "execution_count": null,
      "outputs": [
        {
          "output_type": "execute_result",
          "data": {
            "text/plain": [
              "\"try:\\n    best_loss[0] = checkpoint['loss']\\n    epoch = checkpoint['epoch']\\nexcept:\\n    best_loss[0] = 100\\n    epoch = 100\""
            ],
            "application/vnd.google.colaboratory.intrinsic+json": {
              "type": "string"
            }
          },
          "metadata": {},
          "execution_count": 26
        }
      ]
    },
    {
      "cell_type": "code",
      "source": [
        "best_loss = [loss]"
      ],
      "metadata": {
        "id": "s3Ge5hXIlNgR"
      },
      "execution_count": null,
      "outputs": []
    },
    {
      "cell_type": "code",
      "source": [
        "metrics = {\n",
        "    'mae' : masked_mae_loss,\n",
        "    'mse' : masked_mse_loss,\n",
        "    'mape': masked_mape_loss\n",
        "}\n",
        "mae_loss_12, mae_loss_6, mae_loss_3, rmse_loss_12, rmse_loss_6, rmse_loss_3, mape_loss_12, mape_loss_6, mape_loss_3, predictions, gts = test_1(model, g, test_loader, lap_pos, metrics, batch_size, len(test_data), 12)\n",
        "print(\"MAE_12: {}\".format(mae_loss_12))\n",
        "print(\"MAE_6: {}\".format(mae_loss_6))\n",
        "print(\"MAE_3: {}\".format(mae_loss_3))\n",
        "\n",
        "print(\"RMSE_12: {}\".format(rmse_loss_12))\n",
        "print(\"RMSE_6: {}\".format(rmse_loss_6))\n",
        "print(\"RMSE_3: {}\".format(rmse_loss_3))\n",
        "\n",
        "print(\"MAPE_12: {}\".format(mape_loss_12))\n",
        "print(\"MAPE_6: {}\".format(mape_loss_6))\n",
        "print(\"MAPE_3: {}\".format(mape_loss_3))"
      ],
      "metadata": {
        "colab": {
          "base_uri": "https://localhost:8080/",
          "height": 260,
          "referenced_widgets": [
            "fe8377479eb641d5bd36a71a48b8bd9e",
            "2d0a3f6785a145cfb054366e626d6d50",
            "c14f261d0b184ca2aed7bf423bfa1c7f",
            "254f9755a07c4afbabc63eac22cda82d",
            "452ffddf8c164bfb95a55febfd8020e3",
            "ee6983b8675b473994d0d6b068965005",
            "5f045ce235304856b68b86f61e0395e3",
            "5a5b273f788a459bbe4d937377818187",
            "dcd6f340cab045989c5ee193be2d456c",
            "48e7852b457e4d1382040192f163440f",
            "c86dd43088c84309a6b0cef1bbfc07f2"
          ]
        },
        "id": "pruZ8XIHTV5Q",
        "outputId": "ba15bbcc-b966-4ea5-8b3e-1d6b2c943786"
      },
      "execution_count": null,
      "outputs": [
        {
          "output_type": "display_data",
          "data": {
            "text/plain": [
              "  0%|          | 0/53 [00:00<?, ?it/s]"
            ],
            "application/vnd.jupyter.widget-view+json": {
              "version_major": 2,
              "version_minor": 0,
              "model_id": "fe8377479eb641d5bd36a71a48b8bd9e"
            }
          },
          "metadata": {}
        },
        {
          "output_type": "stream",
          "name": "stderr",
          "text": [
            "/usr/local/lib/python3.10/dist-packages/dgl/backend/pytorch/tensor.py:352: UserWarning: TypedStorage is deprecated. It will be removed in the future and UntypedStorage will be the only storage class. This should only matter to you if you are using storages directly.  To access UntypedStorage directly, use tensor.untyped_storage() instead of tensor.storage()\n",
            "  assert input.numel() == input.storage().size(), \"Cannot convert view \" \\\n"
          ]
        },
        {
          "output_type": "stream",
          "name": "stdout",
          "text": [
            "MAE_12: 3.506930112838745\n",
            "MAE_6: 3.025050640106201\n",
            "MAE_3: 2.7054319381713867\n",
            "RMSE_12: 6.887699604034424\n",
            "RMSE_6: 5.807791709899902\n",
            "RMSE_3: 5.01042366027832\n",
            "MAPE_12: 0.10185939073562622\n",
            "MAPE_6: 0.08240866661071777\n",
            "MAPE_3: 0.07009310275316238\n"
          ]
        }
      ]
    },
    {
      "cell_type": "markdown",
      "source": [
        "## Visualize"
      ],
      "metadata": {
        "id": "PSj8O-9bFdiJ"
      }
    },
    {
      "cell_type": "code",
      "source": [
        "len(gts)"
      ],
      "metadata": {
        "colab": {
          "base_uri": "https://localhost:8080/"
        },
        "id": "4EtVCwUR5qwm",
        "outputId": "e8037d83-9971-43d9-f8f6-137fc71aabec"
      },
      "execution_count": null,
      "outputs": [
        {
          "output_type": "execute_result",
          "data": {
            "text/plain": [
              "6850"
            ]
          },
          "metadata": {},
          "execution_count": 42
        }
      ]
    },
    {
      "cell_type": "code",
      "execution_count": null,
      "metadata": {
        "id": "Dac6oyTC4_D2",
        "colab": {
          "base_uri": "https://localhost:8080/"
        },
        "outputId": "d1f32172-b108-4f20-9ab0-0a727e6a65f7"
      },
      "outputs": [
        {
          "output_type": "stream",
          "name": "stdout",
          "text": [
            "62.74760818481445\n",
            "62.5\n"
          ]
        }
      ],
      "source": [
        "print(predictions[210])\n",
        "print(gts[210])"
      ]
    },
    {
      "cell_type": "code",
      "execution_count": null,
      "metadata": {
        "id": "E8gbKmRw4_D3"
      },
      "outputs": [],
      "source": [
        "import matplotlib.pyplot as plt\n",
        "import numpy as np"
      ]
    },
    {
      "cell_type": "code",
      "execution_count": null,
      "metadata": {
        "id": "L6xRgKC9qKbM"
      },
      "outputs": [],
      "source": [
        "def visualize(preds, gts, start, end, data):\n",
        "    fig = plt.figure(figsize = (15,8))\n",
        "    horizon = end - start\n",
        "    x = np.arange(horizon)\n",
        "    plt.plot(x, preds[start : end], label = 'Prediction')\n",
        "    plt.plot(x, gts[start : end], label = 'Ground Truth')\n",
        "    plt.legend(loc = \"lower center\")\n",
        "    plt.show()"
      ]
    },
    {
      "cell_type": "code",
      "execution_count": null,
      "metadata": {
        "id": "cCkwXUKu4_D4"
      },
      "outputs": [],
      "source": [
        "predictions = np.array(predictions)\n",
        "gts = np.array(gts)"
      ]
    },
    {
      "cell_type": "code",
      "execution_count": null,
      "metadata": {
        "id": "PfmOpaLtrf0l",
        "colab": {
          "base_uri": "https://localhost:8080/",
          "height": 681
        },
        "outputId": "7675921a-5c83-4da5-a1f0-85305d11060e"
      },
      "outputs": [
        {
          "output_type": "display_data",
          "data": {
            "text/plain": [
              "<Figure size 1500x800 with 1 Axes>"
            ],
            "image/png": "[encoded data removed]"
          },
          "metadata": {}
        }
      ],
      "source": [
        "visualize(predictions, gts, 0, 500, 'metrl')"
      ]
    },
    {
      "cell_type": "code",
      "execution_count": null,
      "metadata": {
        "id": "EBcMbHsdbGFn",
        "colab": {
          "base_uri": "https://localhost:8080/"
        },
        "outputId": "e0dcaa9d-aff8-4ad7-9e6c-d5f7f8ed7b72"
      },
      "outputs": [
        {
          "output_type": "stream",
          "name": "stdout",
          "text": [
            "tensor([23.3750, 13.8750, 18.6250, 16.2500, 15.2500, 12.8571, 15.8750, 16.5556,\n",
            "        12.7500, 16.3333, 14.5000, 15.0000], dtype=torch.float64)\n",
            "tensor([18.6250, 16.2500, 15.2500, 12.8571, 15.8750, 16.5556, 12.7500, 16.3333,\n",
            "        14.5000, 15.0000, 12.6250, 18.4444], dtype=torch.float64)\n"
          ]
        }
      ],
      "source": [
        "for id,(x,y) in enumerate(test_loader):\n",
        "  test = [x[:,:,-1,0],y[:,:,-1,0]]\n",
        "  break\n",
        "print(test[0][55,:])\n",
        "print(test[0][57,:])"
      ]
    },
    {
      "cell_type": "code",
      "source": [
        "\n",
        "print(predictions[57])\n",
        "print(predictions[56])\n",
        "print(predictions[55])\n",
        "print()\n",
        "print(gts[57])\n",
        "print(gts[56])"
      ],
      "metadata": {
        "colab": {
          "base_uri": "https://localhost:8080/"
        },
        "id": "vMJ2Rr0h1JoF",
        "outputId": "b31be271-0073-4cf2-91de-dedbf24ac52f"
      },
      "execution_count": null,
      "outputs": [
        {
          "output_type": "stream",
          "name": "stdout",
          "text": [
            "[19.60143280029297, 19.326541900634766, 19.320053100585938, 18.983882904052734, 20.152198791503906, 21.25057601928711, 22.86070442199707, 24.73822784423828, 27.115177154541016, 29.76022720336914, 32.032249450683594, 33.18064498901367]\n",
            "[16.123096466064453, 14.910778045654297, 16.321197509765625, 16.15489959716797, 16.55789566040039, 18.168209075927734, 18.47946548461914, 19.450408935546875, 21.10382843017578, 21.876399993896484, 23.014394760131836, 22.478967666625977]\n",
            "[17.23541259765625, 15.866058349609375, 17.12346649169922, 17.276477813720703, 17.23725128173828, 18.217205047607422, 17.567813873291016, 18.011470794677734, 19.05284881591797, 19.7322998046875, 20.701148986816406, 20.420154571533203]\n",
            "\n",
            "[40.125, 58.0, 61.125, 62.0, 63.0, 62.25, 62.625, 63.0, 59.16666793823242, 43.88888931274414, 27.375, 20.625]\n",
            "[18.44444465637207, 40.125, 58.0, 61.125, 62.0, 63.0, 62.25, 62.625, 63.0, 59.16666793823242, 43.88888931274414, 27.375]\n"
          ]
        }
      ]
    },
    {
      "cell_type": "code",
      "source": [
        "for id,(x,y) in enumerate(test_loader):\n",
        "  for k in range(128):\n",
        "    print(x[k,:,-1,0],y[k,:,-1,0])\n",
        "  break\n",
        "#mô tả data:\n",
        "#gồm x và y tại 1 điểm node. Xuất hiện theo seq = 12 --> x là vân tốc hiện tại và y là vận tốc sau đó 1h.\n",
        "#mỗi lần cập nhật lại sau 5p --> x xóa step 0 và thêm vào step 0 của y ở cuối seq"
      ],
      "metadata": {
        "colab": {
          "base_uri": "https://localhost:8080/"
        },
        "id": "hxjrBn7FBVpp",
        "outputId": "6623c7d1-8825-4cb9-9aee-0f668bc8b68e"
      },
      "execution_count": null,
      "outputs": [
        {
          "output_type": "stream",
          "name": "stdout",
          "text": [
            "tensor([61.8889, 63.7500, 59.7778, 61.0000, 60.3750, 61.7500, 59.3750, 56.0000,\n",
            "        62.8750, 60.5000, 63.1250, 62.2500], dtype=torch.float64) tensor([61.8750, 64.3750, 64.1111, 64.2500, 62.8750, 65.3333, 63.5000, 63.5000,\n",
            "        63.8889, 63.8750, 65.0000, 63.8889], dtype=torch.float64)\n",
            "tensor([63.7500, 59.7778, 61.0000, 60.3750, 61.7500, 59.3750, 56.0000, 62.8750,\n",
            "        60.5000, 63.1250, 62.2500, 61.8750], dtype=torch.float64) tensor([64.3750, 64.1111, 64.2500, 62.8750, 65.3333, 63.5000, 63.5000, 63.8889,\n",
            "        63.8750, 65.0000, 63.8889, 65.3750], dtype=torch.float64)\n",
            "tensor([59.7778, 61.0000, 60.3750, 61.7500, 59.3750, 56.0000, 62.8750, 60.5000,\n",
            "        63.1250, 62.2500, 61.8750, 64.3750], dtype=torch.float64) tensor([64.1111, 64.2500, 62.8750, 65.3333, 63.5000, 63.5000, 63.8889, 63.8750,\n",
            "        65.0000, 63.8889, 65.3750, 64.5000], dtype=torch.float64)\n",
            "tensor([61.0000, 60.3750, 61.7500, 59.3750, 56.0000, 62.8750, 60.5000, 63.1250,\n",
            "        62.2500, 61.8750, 64.3750, 64.1111], dtype=torch.float64) tensor([64.2500, 62.8750, 65.3333, 63.5000, 63.5000, 63.8889, 63.8750, 65.0000,\n",
            "        63.8889, 65.3750, 64.5000, 65.1111], dtype=torch.float64)\n",
            "tensor([60.3750, 61.7500, 59.3750, 56.0000, 62.8750, 60.5000, 63.1250, 62.2500,\n",
            "        61.8750, 64.3750, 64.1111, 64.2500], dtype=torch.float64) tensor([62.8750, 65.3333, 63.5000, 63.5000, 63.8889, 63.8750, 65.0000, 63.8889,\n",
            "        65.3750, 64.5000, 65.1111, 66.7500], dtype=torch.float64)\n",
            "tensor([61.7500, 59.3750, 56.0000, 62.8750, 60.5000, 63.1250, 62.2500, 61.8750,\n",
            "        64.3750, 64.1111, 64.2500, 62.8750], dtype=torch.float64) tensor([65.3333, 63.5000, 63.5000, 63.8889, 63.8750, 65.0000, 63.8889, 65.3750,\n",
            "        64.5000, 65.1111, 66.7500, 64.3333], dtype=torch.float64)\n",
            "tensor([59.3750, 56.0000, 62.8750, 60.5000, 63.1250, 62.2500, 61.8750, 64.3750,\n",
            "        64.1111, 64.2500, 62.8750, 65.3333], dtype=torch.float64) tensor([63.5000, 63.5000, 63.8889, 63.8750, 65.0000, 63.8889, 65.3750, 64.5000,\n",
            "        65.1111, 66.7500, 64.3333, 65.2500], dtype=torch.float64)\n",
            "tensor([56.0000, 62.8750, 60.5000, 63.1250, 62.2500, 61.8750, 64.3750, 64.1111,\n",
            "        64.2500, 62.8750, 65.3333, 63.5000], dtype=torch.float64) tensor([63.5000, 63.8889, 63.8750, 65.0000, 63.8889, 65.3750, 64.5000, 65.1111,\n",
            "        66.7500, 64.3333, 65.2500, 65.6250], dtype=torch.float64)\n",
            "tensor([62.8750, 60.5000, 63.1250, 62.2500, 61.8750, 64.3750, 64.1111, 64.2500,\n",
            "        62.8750, 65.3333, 63.5000, 63.5000], dtype=torch.float64) tensor([63.8889, 63.8750, 65.0000, 63.8889, 65.3750, 64.5000, 65.1111, 66.7500,\n",
            "        64.3333, 65.2500, 65.6250, 65.4444], dtype=torch.float64)\n",
            "tensor([60.5000, 63.1250, 62.2500, 61.8750, 64.3750, 64.1111, 64.2500, 62.8750,\n",
            "        65.3333, 63.5000, 63.5000, 63.8889], dtype=torch.float64) tensor([63.8750, 65.0000, 63.8889, 65.3750, 64.5000, 65.1111, 66.7500, 64.3333,\n",
            "        65.2500, 65.6250, 65.4444, 65.1250], dtype=torch.float64)\n",
            "tensor([63.1250, 62.2500, 61.8750, 64.3750, 64.1111, 64.2500, 62.8750, 65.3333,\n",
            "        63.5000, 63.5000, 63.8889, 63.8750], dtype=torch.float64) tensor([65.0000, 63.8889, 65.3750, 64.5000, 65.1111, 66.7500, 64.3333, 65.2500,\n",
            "        65.6250, 65.4444, 65.1250, 66.3333], dtype=torch.float64)\n",
            "tensor([62.2500, 61.8750, 64.3750, 64.1111, 64.2500, 62.8750, 65.3333, 63.5000,\n",
            "        63.5000, 63.8889, 63.8750, 65.0000], dtype=torch.float64) tensor([63.8889, 65.3750, 64.5000, 65.1111, 66.7500, 64.3333, 65.2500, 65.6250,\n",
            "        65.4444, 65.1250, 66.3333, 65.7500], dtype=torch.float64)\n",
            "tensor([61.8750, 64.3750, 64.1111, 64.2500, 62.8750, 65.3333, 63.5000, 63.5000,\n",
            "        63.8889, 63.8750, 65.0000, 63.8889], dtype=torch.float64) tensor([65.3750, 64.5000, 65.1111, 66.7500, 64.3333, 65.2500, 65.6250, 65.4444,\n",
            "        65.1250, 66.3333, 65.7500, 62.4444], dtype=torch.float64)\n",
            "tensor([64.3750, 64.1111, 64.2500, 62.8750, 65.3333, 63.5000, 63.5000, 63.8889,\n",
            "        63.8750, 65.0000, 63.8889, 65.3750], dtype=torch.float64) tensor([64.5000, 65.1111, 66.7500, 64.3333, 65.2500, 65.6250, 65.4444, 65.1250,\n",
            "        66.3333, 65.7500, 62.4444, 54.2500], dtype=torch.float64)\n",
            "tensor([64.1111, 64.2500, 62.8750, 65.3333, 63.5000, 63.5000, 63.8889, 63.8750,\n",
            "        65.0000, 63.8889, 65.3750, 64.5000], dtype=torch.float64) tensor([65.1111, 66.7500, 64.3333, 65.2500, 65.6250, 65.4444, 65.1250, 66.3333,\n",
            "        65.7500, 62.4444, 54.2500, 54.5000], dtype=torch.float64)\n",
            "tensor([64.2500, 62.8750, 65.3333, 63.5000, 63.5000, 63.8889, 63.8750, 65.0000,\n",
            "        63.8889, 65.3750, 64.5000, 65.1111], dtype=torch.float64) tensor([66.7500, 64.3333, 65.2500, 65.6250, 65.4444, 65.1250, 66.3333, 65.7500,\n",
            "        62.4444, 54.2500, 54.5000, 54.3333], dtype=torch.float64)\n",
            "tensor([62.8750, 65.3333, 63.5000, 63.5000, 63.8889, 63.8750, 65.0000, 63.8889,\n",
            "        65.3750, 64.5000, 65.1111, 66.7500], dtype=torch.float64) tensor([64.3333, 65.2500, 65.6250, 65.4444, 65.1250, 66.3333, 65.7500, 62.4444,\n",
            "        54.2500, 54.5000, 54.3333, 56.7500], dtype=torch.float64)\n",
            "tensor([65.3333, 63.5000, 63.5000, 63.8889, 63.8750, 65.0000, 63.8889, 65.3750,\n",
            "        64.5000, 65.1111, 66.7500, 64.3333], dtype=torch.float64) tensor([65.2500, 65.6250, 65.4444, 65.1250, 66.3333, 65.7500, 62.4444, 54.2500,\n",
            "        54.5000, 54.3333, 56.7500, 52.0000], dtype=torch.float64)\n",
            "tensor([63.5000, 63.5000, 63.8889, 63.8750, 65.0000, 63.8889, 65.3750, 64.5000,\n",
            "        65.1111, 66.7500, 64.3333, 65.2500], dtype=torch.float64) tensor([65.6250, 65.4444, 65.1250, 66.3333, 65.7500, 62.4444, 54.2500, 54.5000,\n",
            "        54.3333, 56.7500, 52.0000, 52.7778], dtype=torch.float64)\n",
            "tensor([63.5000, 63.8889, 63.8750, 65.0000, 63.8889, 65.3750, 64.5000, 65.1111,\n",
            "        66.7500, 64.3333, 65.2500, 65.6250], dtype=torch.float64) tensor([65.4444, 65.1250, 66.3333, 65.7500, 62.4444, 54.2500, 54.5000, 54.3333,\n",
            "        56.7500, 52.0000, 52.7778, 53.3750], dtype=torch.float64)\n",
            "tensor([63.8889, 63.8750, 65.0000, 63.8889, 65.3750, 64.5000, 65.1111, 66.7500,\n",
            "        64.3333, 65.2500, 65.6250, 65.4444], dtype=torch.float64) tensor([65.1250, 66.3333, 65.7500, 62.4444, 54.2500, 54.5000, 54.3333, 56.7500,\n",
            "        52.0000, 52.7778, 53.3750, 55.5714], dtype=torch.float64)\n",
            "tensor([63.8750, 65.0000, 63.8889, 65.3750, 64.5000, 65.1111, 66.7500, 64.3333,\n",
            "        65.2500, 65.6250, 65.4444, 65.1250], dtype=torch.float64) tensor([66.3333, 65.7500, 62.4444, 54.2500, 54.5000, 54.3333, 56.7500, 52.0000,\n",
            "        52.7778, 53.3750, 55.5714, 55.7500], dtype=torch.float64)\n",
            "tensor([65.0000, 63.8889, 65.3750, 64.5000, 65.1111, 66.7500, 64.3333, 65.2500,\n",
            "        65.6250, 65.4444, 65.1250, 66.3333], dtype=torch.float64) tensor([65.7500, 62.4444, 54.2500, 54.5000, 54.3333, 56.7500, 52.0000, 52.7778,\n",
            "        53.3750, 55.5714, 55.7500, 52.6667], dtype=torch.float64)\n",
            "tensor([63.8889, 65.3750, 64.5000, 65.1111, 66.7500, 64.3333, 65.2500, 65.6250,\n",
            "        65.4444, 65.1250, 66.3333, 65.7500], dtype=torch.float64) tensor([62.4444, 54.2500, 54.5000, 54.3333, 56.7500, 52.0000, 52.7778, 53.3750,\n",
            "        55.5714, 55.7500, 52.6667, 53.8889], dtype=torch.float64)\n",
            "tensor([65.3750, 64.5000, 65.1111, 66.7500, 64.3333, 65.2500, 65.6250, 65.4444,\n",
            "        65.1250, 66.3333, 65.7500, 62.4444], dtype=torch.float64) tensor([54.2500, 54.5000, 54.3333, 56.7500, 52.0000, 52.7778, 53.3750, 55.5714,\n",
            "        55.7500, 52.6667, 53.8889, 53.8750], dtype=torch.float64)\n",
            "tensor([64.5000, 65.1111, 66.7500, 64.3333, 65.2500, 65.6250, 65.4444, 65.1250,\n",
            "        66.3333, 65.7500, 62.4444, 54.2500], dtype=torch.float64) tensor([54.5000, 54.3333, 56.7500, 52.0000, 52.7778, 53.3750, 55.5714, 55.7500,\n",
            "        52.6667, 53.8889, 53.8750, 52.2500], dtype=torch.float64)\n",
            "tensor([65.1111, 66.7500, 64.3333, 65.2500, 65.6250, 65.4444, 65.1250, 66.3333,\n",
            "        65.7500, 62.4444, 54.2500, 54.5000], dtype=torch.float64) tensor([54.3333, 56.7500, 52.0000, 52.7778, 53.3750, 55.5714, 55.7500, 52.6667,\n",
            "        53.8889, 53.8750, 52.2500, 53.2500], dtype=torch.float64)\n",
            "tensor([66.7500, 64.3333, 65.2500, 65.6250, 65.4444, 65.1250, 66.3333, 65.7500,\n",
            "        62.4444, 54.2500, 54.5000, 54.3333], dtype=torch.float64) tensor([56.7500, 52.0000, 52.7778, 53.3750, 55.5714, 55.7500, 52.6667, 53.8889,\n",
            "        53.8750, 52.2500, 53.2500, 54.7778], dtype=torch.float64)\n",
            "tensor([64.3333, 65.2500, 65.6250, 65.4444, 65.1250, 66.3333, 65.7500, 62.4444,\n",
            "        54.2500, 54.5000, 54.3333, 56.7500], dtype=torch.float64) tensor([52.0000, 52.7778, 53.3750, 55.5714, 55.7500, 52.6667, 53.8889, 53.8750,\n",
            "        52.2500, 53.2500, 54.7778, 62.6250], dtype=torch.float64)\n",
            "tensor([65.2500, 65.6250, 65.4444, 65.1250, 66.3333, 65.7500, 62.4444, 54.2500,\n",
            "        54.5000, 54.3333, 56.7500, 52.0000], dtype=torch.float64) tensor([52.7778, 53.3750, 55.5714, 55.7500, 52.6667, 53.8889, 53.8750, 52.2500,\n",
            "        53.2500, 54.7778, 62.6250, 59.7778], dtype=torch.float64)\n",
            "tensor([65.6250, 65.4444, 65.1250, 66.3333, 65.7500, 62.4444, 54.2500, 54.5000,\n",
            "        54.3333, 56.7500, 52.0000, 52.7778], dtype=torch.float64) tensor([53.3750, 55.5714, 55.7500, 52.6667, 53.8889, 53.8750, 52.2500, 53.2500,\n",
            "        54.7778, 62.6250, 59.7778, 55.0000], dtype=torch.float64)\n",
            "tensor([65.4444, 65.1250, 66.3333, 65.7500, 62.4444, 54.2500, 54.5000, 54.3333,\n",
            "        56.7500, 52.0000, 52.7778, 53.3750], dtype=torch.float64) tensor([55.5714, 55.7500, 52.6667, 53.8889, 53.8750, 52.2500, 53.2500, 54.7778,\n",
            "        62.6250, 59.7778, 55.0000, 57.0000], dtype=torch.float64)\n",
            "tensor([65.1250, 66.3333, 65.7500, 62.4444, 54.2500, 54.5000, 54.3333, 56.7500,\n",
            "        52.0000, 52.7778, 53.3750, 55.5714], dtype=torch.float64) tensor([55.7500, 52.6667, 53.8889, 53.8750, 52.2500, 53.2500, 54.7778, 62.6250,\n",
            "        59.7778, 55.0000, 57.0000, 23.3750], dtype=torch.float64)\n",
            "tensor([66.3333, 65.7500, 62.4444, 54.2500, 54.5000, 54.3333, 56.7500, 52.0000,\n",
            "        52.7778, 53.3750, 55.5714, 55.7500], dtype=torch.float64) tensor([52.6667, 53.8889, 53.8750, 52.2500, 53.2500, 54.7778, 62.6250, 59.7778,\n",
            "        55.0000, 57.0000, 23.3750, 13.8750], dtype=torch.float64)\n",
            "tensor([65.7500, 62.4444, 54.2500, 54.5000, 54.3333, 56.7500, 52.0000, 52.7778,\n",
            "        53.3750, 55.5714, 55.7500, 52.6667], dtype=torch.float64) tensor([53.8889, 53.8750, 52.2500, 53.2500, 54.7778, 62.6250, 59.7778, 55.0000,\n",
            "        57.0000, 23.3750, 13.8750, 18.6250], dtype=torch.float64)\n",
            "tensor([62.4444, 54.2500, 54.5000, 54.3333, 56.7500, 52.0000, 52.7778, 53.3750,\n",
            "        55.5714, 55.7500, 52.6667, 53.8889], dtype=torch.float64) tensor([53.8750, 52.2500, 53.2500, 54.7778, 62.6250, 59.7778, 55.0000, 57.0000,\n",
            "        23.3750, 13.8750, 18.6250, 16.2500], dtype=torch.float64)\n",
            "tensor([54.2500, 54.5000, 54.3333, 56.7500, 52.0000, 52.7778, 53.3750, 55.5714,\n",
            "        55.7500, 52.6667, 53.8889, 53.8750], dtype=torch.float64) tensor([52.2500, 53.2500, 54.7778, 62.6250, 59.7778, 55.0000, 57.0000, 23.3750,\n",
            "        13.8750, 18.6250, 16.2500, 15.2500], dtype=torch.float64)\n",
            "tensor([54.5000, 54.3333, 56.7500, 52.0000, 52.7778, 53.3750, 55.5714, 55.7500,\n",
            "        52.6667, 53.8889, 53.8750, 52.2500], dtype=torch.float64) tensor([53.2500, 54.7778, 62.6250, 59.7778, 55.0000, 57.0000, 23.3750, 13.8750,\n",
            "        18.6250, 16.2500, 15.2500, 12.8571], dtype=torch.float64)\n",
            "tensor([54.3333, 56.7500, 52.0000, 52.7778, 53.3750, 55.5714, 55.7500, 52.6667,\n",
            "        53.8889, 53.8750, 52.2500, 53.2500], dtype=torch.float64) tensor([54.7778, 62.6250, 59.7778, 55.0000, 57.0000, 23.3750, 13.8750, 18.6250,\n",
            "        16.2500, 15.2500, 12.8571, 15.8750], dtype=torch.float64)\n",
            "tensor([56.7500, 52.0000, 52.7778, 53.3750, 55.5714, 55.7500, 52.6667, 53.8889,\n",
            "        53.8750, 52.2500, 53.2500, 54.7778], dtype=torch.float64) tensor([62.6250, 59.7778, 55.0000, 57.0000, 23.3750, 13.8750, 18.6250, 16.2500,\n",
            "        15.2500, 12.8571, 15.8750, 16.5556], dtype=torch.float64)\n",
            "tensor([52.0000, 52.7778, 53.3750, 55.5714, 55.7500, 52.6667, 53.8889, 53.8750,\n",
            "        52.2500, 53.2500, 54.7778, 62.6250], dtype=torch.float64) tensor([59.7778, 55.0000, 57.0000, 23.3750, 13.8750, 18.6250, 16.2500, 15.2500,\n",
            "        12.8571, 15.8750, 16.5556, 12.7500], dtype=torch.float64)\n",
            "tensor([52.7778, 53.3750, 55.5714, 55.7500, 52.6667, 53.8889, 53.8750, 52.2500,\n",
            "        53.2500, 54.7778, 62.6250, 59.7778], dtype=torch.float64) tensor([55.0000, 57.0000, 23.3750, 13.8750, 18.6250, 16.2500, 15.2500, 12.8571,\n",
            "        15.8750, 16.5556, 12.7500, 16.3333], dtype=torch.float64)\n",
            "tensor([53.3750, 55.5714, 55.7500, 52.6667, 53.8889, 53.8750, 52.2500, 53.2500,\n",
            "        54.7778, 62.6250, 59.7778, 55.0000], dtype=torch.float64) tensor([57.0000, 23.3750, 13.8750, 18.6250, 16.2500, 15.2500, 12.8571, 15.8750,\n",
            "        16.5556, 12.7500, 16.3333, 14.5000], dtype=torch.float64)\n",
            "tensor([55.5714, 55.7500, 52.6667, 53.8889, 53.8750, 52.2500, 53.2500, 54.7778,\n",
            "        62.6250, 59.7778, 55.0000, 57.0000], dtype=torch.float64) tensor([23.3750, 13.8750, 18.6250, 16.2500, 15.2500, 12.8571, 15.8750, 16.5556,\n",
            "        12.7500, 16.3333, 14.5000, 15.0000], dtype=torch.float64)\n",
            "tensor([55.7500, 52.6667, 53.8889, 53.8750, 52.2500, 53.2500, 54.7778, 62.6250,\n",
            "        59.7778, 55.0000, 57.0000, 23.3750], dtype=torch.float64) tensor([13.8750, 18.6250, 16.2500, 15.2500, 12.8571, 15.8750, 16.5556, 12.7500,\n",
            "        16.3333, 14.5000, 15.0000, 12.6250], dtype=torch.float64)\n",
            "tensor([52.6667, 53.8889, 53.8750, 52.2500, 53.2500, 54.7778, 62.6250, 59.7778,\n",
            "        55.0000, 57.0000, 23.3750, 13.8750], dtype=torch.float64) tensor([18.6250, 16.2500, 15.2500, 12.8571, 15.8750, 16.5556, 12.7500, 16.3333,\n",
            "        14.5000, 15.0000, 12.6250, 18.4444], dtype=torch.float64)\n",
            "tensor([53.8889, 53.8750, 52.2500, 53.2500, 54.7778, 62.6250, 59.7778, 55.0000,\n",
            "        57.0000, 23.3750, 13.8750, 18.6250], dtype=torch.float64) tensor([16.2500, 15.2500, 12.8571, 15.8750, 16.5556, 12.7500, 16.3333, 14.5000,\n",
            "        15.0000, 12.6250, 18.4444, 40.1250], dtype=torch.float64)\n",
            "tensor([53.8750, 52.2500, 53.2500, 54.7778, 62.6250, 59.7778, 55.0000, 57.0000,\n",
            "        23.3750, 13.8750, 18.6250, 16.2500], dtype=torch.float64) tensor([15.2500, 12.8571, 15.8750, 16.5556, 12.7500, 16.3333, 14.5000, 15.0000,\n",
            "        12.6250, 18.4444, 40.1250, 58.0000], dtype=torch.float64)\n",
            "tensor([52.2500, 53.2500, 54.7778, 62.6250, 59.7778, 55.0000, 57.0000, 23.3750,\n",
            "        13.8750, 18.6250, 16.2500, 15.2500], dtype=torch.float64) tensor([12.8571, 15.8750, 16.5556, 12.7500, 16.3333, 14.5000, 15.0000, 12.6250,\n",
            "        18.4444, 40.1250, 58.0000, 61.1250], dtype=torch.float64)\n",
            "tensor([53.2500, 54.7778, 62.6250, 59.7778, 55.0000, 57.0000, 23.3750, 13.8750,\n",
            "        18.6250, 16.2500, 15.2500, 12.8571], dtype=torch.float64) tensor([15.8750, 16.5556, 12.7500, 16.3333, 14.5000, 15.0000, 12.6250, 18.4444,\n",
            "        40.1250, 58.0000, 61.1250, 62.0000], dtype=torch.float64)\n",
            "tensor([54.7778, 62.6250, 59.7778, 55.0000, 57.0000, 23.3750, 13.8750, 18.6250,\n",
            "        16.2500, 15.2500, 12.8571, 15.8750], dtype=torch.float64) tensor([16.5556, 12.7500, 16.3333, 14.5000, 15.0000, 12.6250, 18.4444, 40.1250,\n",
            "        58.0000, 61.1250, 62.0000, 63.0000], dtype=torch.float64)\n",
            "tensor([62.6250, 59.7778, 55.0000, 57.0000, 23.3750, 13.8750, 18.6250, 16.2500,\n",
            "        15.2500, 12.8571, 15.8750, 16.5556], dtype=torch.float64) tensor([12.7500, 16.3333, 14.5000, 15.0000, 12.6250, 18.4444, 40.1250, 58.0000,\n",
            "        61.1250, 62.0000, 63.0000, 62.2500], dtype=torch.float64)\n",
            "tensor([59.7778, 55.0000, 57.0000, 23.3750, 13.8750, 18.6250, 16.2500, 15.2500,\n",
            "        12.8571, 15.8750, 16.5556, 12.7500], dtype=torch.float64) tensor([16.3333, 14.5000, 15.0000, 12.6250, 18.4444, 40.1250, 58.0000, 61.1250,\n",
            "        62.0000, 63.0000, 62.2500, 62.6250], dtype=torch.float64)\n",
            "tensor([55.0000, 57.0000, 23.3750, 13.8750, 18.6250, 16.2500, 15.2500, 12.8571,\n",
            "        15.8750, 16.5556, 12.7500, 16.3333], dtype=torch.float64) tensor([14.5000, 15.0000, 12.6250, 18.4444, 40.1250, 58.0000, 61.1250, 62.0000,\n",
            "        63.0000, 62.2500, 62.6250, 63.0000], dtype=torch.float64)\n",
            "tensor([57.0000, 23.3750, 13.8750, 18.6250, 16.2500, 15.2500, 12.8571, 15.8750,\n",
            "        16.5556, 12.7500, 16.3333, 14.5000], dtype=torch.float64) tensor([15.0000, 12.6250, 18.4444, 40.1250, 58.0000, 61.1250, 62.0000, 63.0000,\n",
            "        62.2500, 62.6250, 63.0000, 59.1667], dtype=torch.float64)\n",
            "tensor([23.3750, 13.8750, 18.6250, 16.2500, 15.2500, 12.8571, 15.8750, 16.5556,\n",
            "        12.7500, 16.3333, 14.5000, 15.0000], dtype=torch.float64) tensor([12.6250, 18.4444, 40.1250, 58.0000, 61.1250, 62.0000, 63.0000, 62.2500,\n",
            "        62.6250, 63.0000, 59.1667, 43.8889], dtype=torch.float64)\n",
            "tensor([13.8750, 18.6250, 16.2500, 15.2500, 12.8571, 15.8750, 16.5556, 12.7500,\n",
            "        16.3333, 14.5000, 15.0000, 12.6250], dtype=torch.float64) tensor([18.4444, 40.1250, 58.0000, 61.1250, 62.0000, 63.0000, 62.2500, 62.6250,\n",
            "        63.0000, 59.1667, 43.8889, 27.3750], dtype=torch.float64)\n",
            "tensor([18.6250, 16.2500, 15.2500, 12.8571, 15.8750, 16.5556, 12.7500, 16.3333,\n",
            "        14.5000, 15.0000, 12.6250, 18.4444], dtype=torch.float64) tensor([40.1250, 58.0000, 61.1250, 62.0000, 63.0000, 62.2500, 62.6250, 63.0000,\n",
            "        59.1667, 43.8889, 27.3750, 20.6250], dtype=torch.float64)\n",
            "tensor([16.2500, 15.2500, 12.8571, 15.8750, 16.5556, 12.7500, 16.3333, 14.5000,\n",
            "        15.0000, 12.6250, 18.4444, 40.1250], dtype=torch.float64) tensor([58.0000, 61.1250, 62.0000, 63.0000, 62.2500, 62.6250, 63.0000, 59.1667,\n",
            "        43.8889, 27.3750, 20.6250, 14.2500], dtype=torch.float64)\n",
            "tensor([15.2500, 12.8571, 15.8750, 16.5556, 12.7500, 16.3333, 14.5000, 15.0000,\n",
            "        12.6250, 18.4444, 40.1250, 58.0000], dtype=torch.float64) tensor([61.1250, 62.0000, 63.0000, 62.2500, 62.6250, 63.0000, 59.1667, 43.8889,\n",
            "        27.3750, 20.6250, 14.2500, 19.6250], dtype=torch.float64)\n",
            "tensor([12.8571, 15.8750, 16.5556, 12.7500, 16.3333, 14.5000, 15.0000, 12.6250,\n",
            "        18.4444, 40.1250, 58.0000, 61.1250], dtype=torch.float64) tensor([62.0000, 63.0000, 62.2500, 62.6250, 63.0000, 59.1667, 43.8889, 27.3750,\n",
            "        20.6250, 14.2500, 19.6250, 29.7500], dtype=torch.float64)\n",
            "tensor([15.8750, 16.5556, 12.7500, 16.3333, 14.5000, 15.0000, 12.6250, 18.4444,\n",
            "        40.1250, 58.0000, 61.1250, 62.0000], dtype=torch.float64) tensor([63.0000, 62.2500, 62.6250, 63.0000, 59.1667, 43.8889, 27.3750, 20.6250,\n",
            "        14.2500, 19.6250, 29.7500, 28.3750], dtype=torch.float64)\n",
            "tensor([16.5556, 12.7500, 16.3333, 14.5000, 15.0000, 12.6250, 18.4444, 40.1250,\n",
            "        58.0000, 61.1250, 62.0000, 63.0000], dtype=torch.float64) tensor([62.2500, 62.6250, 63.0000, 59.1667, 43.8889, 27.3750, 20.6250, 14.2500,\n",
            "        19.6250, 29.7500, 28.3750, 48.0000], dtype=torch.float64)\n",
            "tensor([12.7500, 16.3333, 14.5000, 15.0000, 12.6250, 18.4444, 40.1250, 58.0000,\n",
            "        61.1250, 62.0000, 63.0000, 62.2500], dtype=torch.float64) tensor([62.6250, 63.0000, 59.1667, 43.8889, 27.3750, 20.6250, 14.2500, 19.6250,\n",
            "        29.7500, 28.3750, 48.0000, 58.5556], dtype=torch.float64)\n",
            "tensor([16.3333, 14.5000, 15.0000, 12.6250, 18.4444, 40.1250, 58.0000, 61.1250,\n",
            "        62.0000, 63.0000, 62.2500, 62.6250], dtype=torch.float64) tensor([63.0000, 59.1667, 43.8889, 27.3750, 20.6250, 14.2500, 19.6250, 29.7500,\n",
            "        28.3750, 48.0000, 58.5556, 62.7500], dtype=torch.float64)\n",
            "tensor([14.5000, 15.0000, 12.6250, 18.4444, 40.1250, 58.0000, 61.1250, 62.0000,\n",
            "        63.0000, 62.2500, 62.6250, 63.0000], dtype=torch.float64) tensor([59.1667, 43.8889, 27.3750, 20.6250, 14.2500, 19.6250, 29.7500, 28.3750,\n",
            "        48.0000, 58.5556, 62.7500, 63.6250], dtype=torch.float64)\n",
            "tensor([15.0000, 12.6250, 18.4444, 40.1250, 58.0000, 61.1250, 62.0000, 63.0000,\n",
            "        62.2500, 62.6250, 63.0000, 59.1667], dtype=torch.float64) tensor([43.8889, 27.3750, 20.6250, 14.2500, 19.6250, 29.7500, 28.3750, 48.0000,\n",
            "        58.5556, 62.7500, 63.6250, 61.0000], dtype=torch.float64)\n",
            "tensor([12.6250, 18.4444, 40.1250, 58.0000, 61.1250, 62.0000, 63.0000, 62.2500,\n",
            "        62.6250, 63.0000, 59.1667, 43.8889], dtype=torch.float64) tensor([27.3750, 20.6250, 14.2500, 19.6250, 29.7500, 28.3750, 48.0000, 58.5556,\n",
            "        62.7500, 63.6250, 61.0000, 62.0000], dtype=torch.float64)\n",
            "tensor([18.4444, 40.1250, 58.0000, 61.1250, 62.0000, 63.0000, 62.2500, 62.6250,\n",
            "        63.0000, 59.1667, 43.8889, 27.3750], dtype=torch.float64) tensor([20.6250, 14.2500, 19.6250, 29.7500, 28.3750, 48.0000, 58.5556, 62.7500,\n",
            "        63.6250, 61.0000, 62.0000, 62.8750], dtype=torch.float64)\n",
            "tensor([40.1250, 58.0000, 61.1250, 62.0000, 63.0000, 62.2500, 62.6250, 63.0000,\n",
            "        59.1667, 43.8889, 27.3750, 20.6250], dtype=torch.float64) tensor([14.2500, 19.6250, 29.7500, 28.3750, 48.0000, 58.5556, 62.7500, 63.6250,\n",
            "        61.0000, 62.0000, 62.8750, 62.7500], dtype=torch.float64)\n",
            "tensor([58.0000, 61.1250, 62.0000, 63.0000, 62.2500, 62.6250, 63.0000, 59.1667,\n",
            "        43.8889, 27.3750, 20.6250, 14.2500], dtype=torch.float64) tensor([19.6250, 29.7500, 28.3750, 48.0000, 58.5556, 62.7500, 63.6250, 61.0000,\n",
            "        62.0000, 62.8750, 62.7500, 62.5556], dtype=torch.float64)\n",
            "tensor([61.1250, 62.0000, 63.0000, 62.2500, 62.6250, 63.0000, 59.1667, 43.8889,\n",
            "        27.3750, 20.6250, 14.2500, 19.6250], dtype=torch.float64) tensor([29.7500, 28.3750, 48.0000, 58.5556, 62.7500, 63.6250, 61.0000, 62.0000,\n",
            "        62.8750, 62.7500, 62.5556, 61.1250], dtype=torch.float64)\n",
            "tensor([62.0000, 63.0000, 62.2500, 62.6250, 63.0000, 59.1667, 43.8889, 27.3750,\n",
            "        20.6250, 14.2500, 19.6250, 29.7500], dtype=torch.float64) tensor([28.3750, 48.0000, 58.5556, 62.7500, 63.6250, 61.0000, 62.0000, 62.8750,\n",
            "        62.7500, 62.5556, 61.1250, 62.2500], dtype=torch.float64)\n",
            "tensor([63.0000, 62.2500, 62.6250, 63.0000, 59.1667, 43.8889, 27.3750, 20.6250,\n",
            "        14.2500, 19.6250, 29.7500, 28.3750], dtype=torch.float64) tensor([48.0000, 58.5556, 62.7500, 63.6250, 61.0000, 62.0000, 62.8750, 62.7500,\n",
            "        62.5556, 61.1250, 62.2500, 63.6250], dtype=torch.float64)\n",
            "tensor([62.2500, 62.6250, 63.0000, 59.1667, 43.8889, 27.3750, 20.6250, 14.2500,\n",
            "        19.6250, 29.7500, 28.3750, 48.0000], dtype=torch.float64) tensor([58.5556, 62.7500, 63.6250, 61.0000, 62.0000, 62.8750, 62.7500, 62.5556,\n",
            "        61.1250, 62.2500, 63.6250, 62.8889], dtype=torch.float64)\n",
            "tensor([62.6250, 63.0000, 59.1667, 43.8889, 27.3750, 20.6250, 14.2500, 19.6250,\n",
            "        29.7500, 28.3750, 48.0000, 58.5556], dtype=torch.float64) tensor([62.7500, 63.6250, 61.0000, 62.0000, 62.8750, 62.7500, 62.5556, 61.1250,\n",
            "        62.2500, 63.6250, 62.8889, 61.8750], dtype=torch.float64)\n",
            "tensor([63.0000, 59.1667, 43.8889, 27.3750, 20.6250, 14.2500, 19.6250, 29.7500,\n",
            "        28.3750, 48.0000, 58.5556, 62.7500], dtype=torch.float64) tensor([63.6250, 61.0000, 62.0000, 62.8750, 62.7500, 62.5556, 61.1250, 62.2500,\n",
            "        63.6250, 62.8889, 61.8750, 62.6250], dtype=torch.float64)\n",
            "tensor([59.1667, 43.8889, 27.3750, 20.6250, 14.2500, 19.6250, 29.7500, 28.3750,\n",
            "        48.0000, 58.5556, 62.7500, 63.6250], dtype=torch.float64) tensor([61.0000, 62.0000, 62.8750, 62.7500, 62.5556, 61.1250, 62.2500, 63.6250,\n",
            "        62.8889, 61.8750, 62.6250, 62.5000], dtype=torch.float64)\n",
            "tensor([43.8889, 27.3750, 20.6250, 14.2500, 19.6250, 29.7500, 28.3750, 48.0000,\n",
            "        58.5556, 62.7500, 63.6250, 61.0000], dtype=torch.float64) tensor([62.0000, 62.8750, 62.7500, 62.5556, 61.1250, 62.2500, 63.6250, 62.8889,\n",
            "        61.8750, 62.6250, 62.5000, 63.3750], dtype=torch.float64)\n",
            "tensor([27.3750, 20.6250, 14.2500, 19.6250, 29.7500, 28.3750, 48.0000, 58.5556,\n",
            "        62.7500, 63.6250, 61.0000, 62.0000], dtype=torch.float64) tensor([62.8750, 62.7500, 62.5556, 61.1250, 62.2500, 63.6250, 62.8889, 61.8750,\n",
            "        62.6250, 62.5000, 63.3750, 63.0000], dtype=torch.float64)\n",
            "tensor([20.6250, 14.2500, 19.6250, 29.7500, 28.3750, 48.0000, 58.5556, 62.7500,\n",
            "        63.6250, 61.0000, 62.0000, 62.8750], dtype=torch.float64) tensor([62.7500, 62.5556, 61.1250, 62.2500, 63.6250, 62.8889, 61.8750, 62.6250,\n",
            "        62.5000, 63.3750, 63.0000, 63.5000], dtype=torch.float64)\n",
            "tensor([14.2500, 19.6250, 29.7500, 28.3750, 48.0000, 58.5556, 62.7500, 63.6250,\n",
            "        61.0000, 62.0000, 62.8750, 62.7500], dtype=torch.float64) tensor([62.5556, 61.1250, 62.2500, 63.6250, 62.8889, 61.8750, 62.6250, 62.5000,\n",
            "        63.3750, 63.0000, 63.5000, 64.0000], dtype=torch.float64)\n",
            "tensor([19.6250, 29.7500, 28.3750, 48.0000, 58.5556, 62.7500, 63.6250, 61.0000,\n",
            "        62.0000, 62.8750, 62.7500, 62.5556], dtype=torch.float64) tensor([61.1250, 62.2500, 63.6250, 62.8889, 61.8750, 62.6250, 62.5000, 63.3750,\n",
            "        63.0000, 63.5000, 64.0000, 63.2222], dtype=torch.float64)\n",
            "tensor([29.7500, 28.3750, 48.0000, 58.5556, 62.7500, 63.6250, 61.0000, 62.0000,\n",
            "        62.8750, 62.7500, 62.5556, 61.1250], dtype=torch.float64) tensor([62.2500, 63.6250, 62.8889, 61.8750, 62.6250, 62.5000, 63.3750, 63.0000,\n",
            "        63.5000, 64.0000, 63.2222, 63.7500], dtype=torch.float64)\n",
            "tensor([28.3750, 48.0000, 58.5556, 62.7500, 63.6250, 61.0000, 62.0000, 62.8750,\n",
            "        62.7500, 62.5556, 61.1250, 62.2500], dtype=torch.float64) tensor([63.6250, 62.8889, 61.8750, 62.6250, 62.5000, 63.3750, 63.0000, 63.5000,\n",
            "        64.0000, 63.2222, 63.7500, 63.0000], dtype=torch.float64)\n",
            "tensor([48.0000, 58.5556, 62.7500, 63.6250, 61.0000, 62.0000, 62.8750, 62.7500,\n",
            "        62.5556, 61.1250, 62.2500, 63.6250], dtype=torch.float64) tensor([62.8889, 61.8750, 62.6250, 62.5000, 63.3750, 63.0000, 63.5000, 64.0000,\n",
            "        63.2222, 63.7500, 63.0000, 63.6250], dtype=torch.float64)\n",
            "tensor([58.5556, 62.7500, 63.6250, 61.0000, 62.0000, 62.8750, 62.7500, 62.5556,\n",
            "        61.1250, 62.2500, 63.6250, 62.8889], dtype=torch.float64) tensor([61.8750, 62.6250, 62.5000, 63.3750, 63.0000, 63.5000, 64.0000, 63.2222,\n",
            "        63.7500, 63.0000, 63.6250, 62.4286], dtype=torch.float64)\n",
            "tensor([62.7500, 63.6250, 61.0000, 62.0000, 62.8750, 62.7500, 62.5556, 61.1250,\n",
            "        62.2500, 63.6250, 62.8889, 61.8750], dtype=torch.float64) tensor([62.6250, 62.5000, 63.3750, 63.0000, 63.5000, 64.0000, 63.2222, 63.7500,\n",
            "        63.0000, 63.6250, 62.4286, 61.7778], dtype=torch.float64)\n",
            "tensor([63.6250, 61.0000, 62.0000, 62.8750, 62.7500, 62.5556, 61.1250, 62.2500,\n",
            "        63.6250, 62.8889, 61.8750, 62.6250], dtype=torch.float64) tensor([62.5000, 63.3750, 63.0000, 63.5000, 64.0000, 63.2222, 63.7500, 63.0000,\n",
            "        63.6250, 62.4286, 61.7778, 62.7500], dtype=torch.float64)\n",
            "tensor([61.0000, 62.0000, 62.8750, 62.7500, 62.5556, 61.1250, 62.2500, 63.6250,\n",
            "        62.8889, 61.8750, 62.6250, 62.5000], dtype=torch.float64) tensor([63.3750, 63.0000, 63.5000, 64.0000, 63.2222, 63.7500, 63.0000, 63.6250,\n",
            "        62.4286, 61.7778, 62.7500, 62.8889], dtype=torch.float64)\n",
            "tensor([62.0000, 62.8750, 62.7500, 62.5556, 61.1250, 62.2500, 63.6250, 62.8889,\n",
            "        61.8750, 62.6250, 62.5000, 63.3750], dtype=torch.float64) tensor([63.0000, 63.5000, 64.0000, 63.2222, 63.7500, 63.0000, 63.6250, 62.4286,\n",
            "        61.7778, 62.7500, 62.8889, 62.8333], dtype=torch.float64)\n",
            "tensor([62.8750, 62.7500, 62.5556, 61.1250, 62.2500, 63.6250, 62.8889, 61.8750,\n",
            "        62.6250, 62.5000, 63.3750, 63.0000], dtype=torch.float64) tensor([63.5000, 64.0000, 63.2222, 63.7500, 63.0000, 63.6250, 62.4286, 61.7778,\n",
            "        62.7500, 62.8889, 62.8333,  0.0000], dtype=torch.float64)\n",
            "tensor([62.7500, 62.5556, 61.1250, 62.2500, 63.6250, 62.8889, 61.8750, 62.6250,\n",
            "        62.5000, 63.3750, 63.0000, 63.5000], dtype=torch.float64) tensor([64.0000, 63.2222, 63.7500, 63.0000, 63.6250, 62.4286, 61.7778, 62.7500,\n",
            "        62.8889, 62.8333,  0.0000,  0.0000], dtype=torch.float64)\n",
            "tensor([62.5556, 61.1250, 62.2500, 63.6250, 62.8889, 61.8750, 62.6250, 62.5000,\n",
            "        63.3750, 63.0000, 63.5000, 64.0000], dtype=torch.float64) tensor([63.2222, 63.7500, 63.0000, 63.6250, 62.4286, 61.7778, 62.7500, 62.8889,\n",
            "        62.8333,  0.0000,  0.0000,  0.0000], dtype=torch.float64)\n",
            "tensor([61.1250, 62.2500, 63.6250, 62.8889, 61.8750, 62.6250, 62.5000, 63.3750,\n",
            "        63.0000, 63.5000, 64.0000, 63.2222], dtype=torch.float64) tensor([63.7500, 63.0000, 63.6250, 62.4286, 61.7778, 62.7500, 62.8889, 62.8333,\n",
            "         0.0000,  0.0000,  0.0000,  0.0000], dtype=torch.float64)\n",
            "tensor([62.2500, 63.6250, 62.8889, 61.8750, 62.6250, 62.5000, 63.3750, 63.0000,\n",
            "        63.5000, 64.0000, 63.2222, 63.7500], dtype=torch.float64) tensor([63.0000, 63.6250, 62.4286, 61.7778, 62.7500, 62.8889, 62.8333,  0.0000,\n",
            "         0.0000,  0.0000,  0.0000,  0.0000], dtype=torch.float64)\n",
            "tensor([63.6250, 62.8889, 61.8750, 62.6250, 62.5000, 63.3750, 63.0000, 63.5000,\n",
            "        64.0000, 63.2222, 63.7500, 63.0000], dtype=torch.float64) tensor([63.6250, 62.4286, 61.7778, 62.7500, 62.8889, 62.8333,  0.0000,  0.0000,\n",
            "         0.0000,  0.0000,  0.0000,  0.0000], dtype=torch.float64)\n",
            "tensor([62.8889, 61.8750, 62.6250, 62.5000, 63.3750, 63.0000, 63.5000, 64.0000,\n",
            "        63.2222, 63.7500, 63.0000, 63.6250], dtype=torch.float64) tensor([62.4286, 61.7778, 62.7500, 62.8889, 62.8333,  0.0000,  0.0000,  0.0000,\n",
            "         0.0000,  0.0000,  0.0000,  0.0000], dtype=torch.float64)\n",
            "tensor([61.8750, 62.6250, 62.5000, 63.3750, 63.0000, 63.5000, 64.0000, 63.2222,\n",
            "        63.7500, 63.0000, 63.6250, 62.4286], dtype=torch.float64) tensor([61.7778, 62.7500, 62.8889, 62.8333,  0.0000,  0.0000,  0.0000,  0.0000,\n",
            "         0.0000,  0.0000,  0.0000,  0.0000], dtype=torch.float64)\n",
            "tensor([62.6250, 62.5000, 63.3750, 63.0000, 63.5000, 64.0000, 63.2222, 63.7500,\n",
            "        63.0000, 63.6250, 62.4286, 61.7778], dtype=torch.float64) tensor([62.7500, 62.8889, 62.8333,  0.0000,  0.0000,  0.0000,  0.0000,  0.0000,\n",
            "         0.0000,  0.0000,  0.0000,  0.0000], dtype=torch.float64)\n",
            "tensor([62.5000, 63.3750, 63.0000, 63.5000, 64.0000, 63.2222, 63.7500, 63.0000,\n",
            "        63.6250, 62.4286, 61.7778, 62.7500], dtype=torch.float64) tensor([62.8889, 62.8333,  0.0000,  0.0000,  0.0000,  0.0000,  0.0000,  0.0000,\n",
            "         0.0000,  0.0000,  0.0000, 63.1250], dtype=torch.float64)\n",
            "tensor([63.3750, 63.0000, 63.5000, 64.0000, 63.2222, 63.7500, 63.0000, 63.6250,\n",
            "        62.4286, 61.7778, 62.7500, 62.8889], dtype=torch.float64) tensor([62.8333,  0.0000,  0.0000,  0.0000,  0.0000,  0.0000,  0.0000,  0.0000,\n",
            "         0.0000,  0.0000, 63.1250, 62.6250], dtype=torch.float64)\n",
            "tensor([63.0000, 63.5000, 64.0000, 63.2222, 63.7500, 63.0000, 63.6250, 62.4286,\n",
            "        61.7778, 62.7500, 62.8889, 62.8333], dtype=torch.float64) tensor([ 0.0000,  0.0000,  0.0000,  0.0000,  0.0000,  0.0000,  0.0000,  0.0000,\n",
            "         0.0000, 63.1250, 62.6250, 62.7778], dtype=torch.float64)\n",
            "tensor([63.5000, 64.0000, 63.2222, 63.7500, 63.0000, 63.6250, 62.4286, 61.7778,\n",
            "        62.7500, 62.8889, 62.8333,  0.0000], dtype=torch.float64) tensor([ 0.0000,  0.0000,  0.0000,  0.0000,  0.0000,  0.0000,  0.0000,  0.0000,\n",
            "        63.1250, 62.6250, 62.7778, 62.4286], dtype=torch.float64)\n",
            "tensor([64.0000, 63.2222, 63.7500, 63.0000, 63.6250, 62.4286, 61.7778, 62.7500,\n",
            "        62.8889, 62.8333,  0.0000,  0.0000], dtype=torch.float64) tensor([ 0.0000,  0.0000,  0.0000,  0.0000,  0.0000,  0.0000,  0.0000, 63.1250,\n",
            "        62.6250, 62.7778, 62.4286, 62.4286], dtype=torch.float64)\n",
            "tensor([63.2222, 63.7500, 63.0000, 63.6250, 62.4286, 61.7778, 62.7500, 62.8889,\n",
            "        62.8333,  0.0000,  0.0000,  0.0000], dtype=torch.float64) tensor([ 0.0000,  0.0000,  0.0000,  0.0000,  0.0000,  0.0000, 63.1250, 62.6250,\n",
            "        62.7778, 62.4286, 62.4286, 61.7500], dtype=torch.float64)\n",
            "tensor([63.7500, 63.0000, 63.6250, 62.4286, 61.7778, 62.7500, 62.8889, 62.8333,\n",
            "         0.0000,  0.0000,  0.0000,  0.0000], dtype=torch.float64) tensor([ 0.0000,  0.0000,  0.0000,  0.0000,  0.0000, 63.1250, 62.6250, 62.7778,\n",
            "        62.4286, 62.4286, 61.7500, 63.6250], dtype=torch.float64)\n",
            "tensor([63.0000, 63.6250, 62.4286, 61.7778, 62.7500, 62.8889, 62.8333,  0.0000,\n",
            "         0.0000,  0.0000,  0.0000,  0.0000], dtype=torch.float64) tensor([ 0.0000,  0.0000,  0.0000,  0.0000, 63.1250, 62.6250, 62.7778, 62.4286,\n",
            "        62.4286, 61.7500, 63.6250, 61.7500], dtype=torch.float64)\n",
            "tensor([63.6250, 62.4286, 61.7778, 62.7500, 62.8889, 62.8333,  0.0000,  0.0000,\n",
            "         0.0000,  0.0000,  0.0000,  0.0000], dtype=torch.float64) tensor([ 0.0000,  0.0000,  0.0000, 63.1250, 62.6250, 62.7778, 62.4286, 62.4286,\n",
            "        61.7500, 63.6250, 61.7500, 63.4444], dtype=torch.float64)\n",
            "tensor([62.4286, 61.7778, 62.7500, 62.8889, 62.8333,  0.0000,  0.0000,  0.0000,\n",
            "         0.0000,  0.0000,  0.0000,  0.0000], dtype=torch.float64) tensor([ 0.0000,  0.0000, 63.1250, 62.6250, 62.7778, 62.4286, 62.4286, 61.7500,\n",
            "        63.6250, 61.7500, 63.4444, 63.1250], dtype=torch.float64)\n",
            "tensor([61.7778, 62.7500, 62.8889, 62.8333,  0.0000,  0.0000,  0.0000,  0.0000,\n",
            "         0.0000,  0.0000,  0.0000,  0.0000], dtype=torch.float64) tensor([ 0.0000, 63.1250, 62.6250, 62.7778, 62.4286, 62.4286, 61.7500, 63.6250,\n",
            "        61.7500, 63.4444, 63.1250, 63.0000], dtype=torch.float64)\n",
            "tensor([62.7500, 62.8889, 62.8333,  0.0000,  0.0000,  0.0000,  0.0000,  0.0000,\n",
            "         0.0000,  0.0000,  0.0000,  0.0000], dtype=torch.float64) tensor([63.1250, 62.6250, 62.7778, 62.4286, 62.4286, 61.7500, 63.6250, 61.7500,\n",
            "        63.4444, 63.1250, 63.0000, 62.8750], dtype=torch.float64)\n",
            "tensor([62.8889, 62.8333,  0.0000,  0.0000,  0.0000,  0.0000,  0.0000,  0.0000,\n",
            "         0.0000,  0.0000,  0.0000, 63.1250], dtype=torch.float64) tensor([62.6250, 62.7778, 62.4286, 62.4286, 61.7500, 63.6250, 61.7500, 63.4444,\n",
            "        63.1250, 63.0000, 62.8750, 63.8750], dtype=torch.float64)\n",
            "tensor([62.8333,  0.0000,  0.0000,  0.0000,  0.0000,  0.0000,  0.0000,  0.0000,\n",
            "         0.0000,  0.0000, 63.1250, 62.6250], dtype=torch.float64) tensor([62.7778, 62.4286, 62.4286, 61.7500, 63.6250, 61.7500, 63.4444, 63.1250,\n",
            "        63.0000, 62.8750, 63.8750, 63.0000], dtype=torch.float64)\n",
            "tensor([ 0.0000,  0.0000,  0.0000,  0.0000,  0.0000,  0.0000,  0.0000,  0.0000,\n",
            "         0.0000, 63.1250, 62.6250, 62.7778], dtype=torch.float64) tensor([62.4286, 62.4286, 61.7500, 63.6250, 61.7500, 63.4444, 63.1250, 63.0000,\n",
            "        62.8750, 63.8750, 63.0000, 63.8750], dtype=torch.float64)\n",
            "tensor([ 0.0000,  0.0000,  0.0000,  0.0000,  0.0000,  0.0000,  0.0000,  0.0000,\n",
            "        63.1250, 62.6250, 62.7778, 62.4286], dtype=torch.float64) tensor([62.4286, 61.7500, 63.6250, 61.7500, 63.4444, 63.1250, 63.0000, 62.8750,\n",
            "        63.8750, 63.0000, 63.8750, 63.0000], dtype=torch.float64)\n",
            "tensor([ 0.0000,  0.0000,  0.0000,  0.0000,  0.0000,  0.0000,  0.0000, 63.1250,\n",
            "        62.6250, 62.7778, 62.4286, 62.4286], dtype=torch.float64) tensor([61.7500, 63.6250, 61.7500, 63.4444, 63.1250, 63.0000, 62.8750, 63.8750,\n",
            "        63.0000, 63.8750, 63.0000, 62.8750], dtype=torch.float64)\n",
            "tensor([ 0.0000,  0.0000,  0.0000,  0.0000,  0.0000,  0.0000, 63.1250, 62.6250,\n",
            "        62.7778, 62.4286, 62.4286, 61.7500], dtype=torch.float64) tensor([63.6250, 61.7500, 63.4444, 63.1250, 63.0000, 62.8750, 63.8750, 63.0000,\n",
            "        63.8750, 63.0000, 62.8750, 62.5556], dtype=torch.float64)\n",
            "tensor([ 0.0000,  0.0000,  0.0000,  0.0000,  0.0000, 63.1250, 62.6250, 62.7778,\n",
            "        62.4286, 62.4286, 61.7500, 63.6250], dtype=torch.float64) tensor([61.7500, 63.4444, 63.1250, 63.0000, 62.8750, 63.8750, 63.0000, 63.8750,\n",
            "        63.0000, 62.8750, 62.5556, 61.7500], dtype=torch.float64)\n",
            "tensor([ 0.0000,  0.0000,  0.0000,  0.0000, 63.1250, 62.6250, 62.7778, 62.4286,\n",
            "        62.4286, 61.7500, 63.6250, 61.7500], dtype=torch.float64) tensor([63.4444, 63.1250, 63.0000, 62.8750, 63.8750, 63.0000, 63.8750, 63.0000,\n",
            "        62.8750, 62.5556, 61.7500, 51.5000], dtype=torch.float64)\n",
            "tensor([ 0.0000,  0.0000,  0.0000, 63.1250, 62.6250, 62.7778, 62.4286, 62.4286,\n",
            "        61.7500, 63.6250, 61.7500, 63.4444], dtype=torch.float64) tensor([63.1250, 63.0000, 62.8750, 63.8750, 63.0000, 63.8750, 63.0000, 62.8750,\n",
            "        62.5556, 61.7500, 51.5000, 32.5714], dtype=torch.float64)\n",
            "tensor([ 0.0000,  0.0000, 63.1250, 62.6250, 62.7778, 62.4286, 62.4286, 61.7500,\n",
            "        63.6250, 61.7500, 63.4444, 63.1250], dtype=torch.float64) tensor([63.0000, 62.8750, 63.8750, 63.0000, 63.8750, 63.0000, 62.8750, 62.5556,\n",
            "        61.7500, 51.5000, 32.5714, 57.7500], dtype=torch.float64)\n",
            "tensor([ 0.0000, 63.1250, 62.6250, 62.7778, 62.4286, 62.4286, 61.7500, 63.6250,\n",
            "        61.7500, 63.4444, 63.1250, 63.0000], dtype=torch.float64) tensor([62.8750, 63.8750, 63.0000, 63.8750, 63.0000, 62.8750, 62.5556, 61.7500,\n",
            "        51.5000, 32.5714, 57.7500, 31.1111], dtype=torch.float64)\n",
            "tensor([63.1250, 62.6250, 62.7778, 62.4286, 62.4286, 61.7500, 63.6250, 61.7500,\n",
            "        63.4444, 63.1250, 63.0000, 62.8750], dtype=torch.float64) tensor([63.8750, 63.0000, 63.8750, 63.0000, 62.8750, 62.5556, 61.7500, 51.5000,\n",
            "        32.5714, 57.7500, 31.1111, 35.7143], dtype=torch.float64)\n",
            "tensor([62.6250, 62.7778, 62.4286, 62.4286, 61.7500, 63.6250, 61.7500, 63.4444,\n",
            "        63.1250, 63.0000, 62.8750, 63.8750], dtype=torch.float64) tensor([63.0000, 63.8750, 63.0000, 62.8750, 62.5556, 61.7500, 51.5000, 32.5714,\n",
            "        57.7500, 31.1111, 35.7143, 49.5000], dtype=torch.float64)\n",
            "tensor([62.7778, 62.4286, 62.4286, 61.7500, 63.6250, 61.7500, 63.4444, 63.1250,\n",
            "        63.0000, 62.8750, 63.8750, 63.0000], dtype=torch.float64) tensor([63.8750, 63.0000, 62.8750, 62.5556, 61.7500, 51.5000, 32.5714, 57.7500,\n",
            "        31.1111, 35.7143, 49.5000, 42.1250], dtype=torch.float64)\n",
            "tensor([62.4286, 62.4286, 61.7500, 63.6250, 61.7500, 63.4444, 63.1250, 63.0000,\n",
            "        62.8750, 63.8750, 63.0000, 63.8750], dtype=torch.float64) tensor([63.0000, 62.8750, 62.5556, 61.7500, 51.5000, 32.5714, 57.7500, 31.1111,\n",
            "        35.7143, 49.5000, 42.1250, 57.8889], dtype=torch.float64)\n",
            "tensor([62.4286, 61.7500, 63.6250, 61.7500, 63.4444, 63.1250, 63.0000, 62.8750,\n",
            "        63.8750, 63.0000, 63.8750, 63.0000], dtype=torch.float64) tensor([62.8750, 62.5556, 61.7500, 51.5000, 32.5714, 57.7500, 31.1111, 35.7143,\n",
            "        49.5000, 42.1250, 57.8889, 27.7500], dtype=torch.float64)\n"
          ]
        }
      ]
    },
    {
      "cell_type": "code",
      "source": [
        "import torch\n",
        "a = torch.tensor([1,2,3])\n",
        "a[1]"
      ],
      "metadata": {
        "colab": {
          "base_uri": "https://localhost:8080/"
        },
        "id": "wuAdPf6Vdksq",
        "outputId": "de356f78-0d48-4c75-f818-7fcf3f7d10e9"
      },
      "execution_count": null,
      "outputs": [
        {
          "output_type": "execute_result",
          "data": {
            "text/plain": [
              "tensor(2)"
            ]
          },
          "metadata": {},
          "execution_count": 9
        }
      ]
    }
  ],
  "metadata": {
    "colab": {
      "provenance": [],
      "collapsed_sections": [
        "5gduSM83Eb4O"
      ],
      "gpuType": "T4"
    },
    "interpreter": {
      "hash": "59636f6344ea3cd51dac5e7e986efbbd8a2475562bac4dfc3265cc50c0e0e332"
    },
    "kernelspec": {
      "display_name": "Python 3",
      "name": "python3"
    },
    "language_info": {
      "codemirror_mode": {
        "name": "ipython",
        "version": 3
      },
      "file_extension": ".py",
      "mimetype": "text/x-python",
      "name": "python",
      "nbconvert_exporter": "python",
      "pygments_lexer": "ipython3",
      "version": "3.8.12"
    },
    "widgets": {
      "application/vnd.jupyter.widget-state+json": {
        "fe8377479eb641d5bd36a71a48b8bd9e": {
          "model_module": "@jupyter-widgets/controls",
          "model_name": "HBoxModel",
          "model_module_version": "1.5.0",
          "state": {
            "_dom_classes": [],
            "_model_module": "@jupyter-widgets/controls",
            "_model_module_version": "1.5.0",
            "_model_name": "HBoxModel",
            "_view_count": null,
            "_view_module": "@jupyter-widgets/controls",
            "_view_module_version": "1.5.0",
            "_view_name": "HBoxView",
            "box_style": "",
            "children": [
              "IPY_MODEL_2d0a3f6785a145cfb054366e626d6d50",
              "IPY_MODEL_c14f261d0b184ca2aed7bf423bfa1c7f",
              "IPY_MODEL_254f9755a07c4afbabc63eac22cda82d"
            ],
            "layout": "IPY_MODEL_452ffddf8c164bfb95a55febfd8020e3"
          }
        },
        "2d0a3f6785a145cfb054366e626d6d50": {
          "model_module": "@jupyter-widgets/controls",
          "model_name": "HTMLModel",
          "model_module_version": "1.5.0",
          "state": {
            "_dom_classes": [],
            "_model_module": "@jupyter-widgets/controls",
            "_model_module_version": "1.5.0",
            "_model_name": "HTMLModel",
            "_view_count": null,
            "_view_module": "@jupyter-widgets/controls",
            "_view_module_version": "1.5.0",
            "_view_name": "HTMLView",
            "description": "",
            "description_tooltip": null,
            "layout": "IPY_MODEL_ee6983b8675b473994d0d6b068965005",
            "placeholder": "​",
            "style": "IPY_MODEL_5f045ce235304856b68b86f61e0395e3",
            "value": ""
          }
        },
        "c14f261d0b184ca2aed7bf423bfa1c7f": {
          "model_module": "@jupyter-widgets/controls",
          "model_name": "FloatProgressModel",
          "model_module_version": "1.5.0",
          "state": {
            "_dom_classes": [],
            "_model_module": "@jupyter-widgets/controls",
            "_model_module_version": "1.5.0",
            "_model_name": "FloatProgressModel",
            "_view_count": null,
            "_view_module": "@jupyter-widgets/controls",
            "_view_module_version": "1.5.0",
            "_view_name": "ProgressView",
            "bar_style": "success",
            "description": "",
            "description_tooltip": null,
            "layout": "IPY_MODEL_5a5b273f788a459bbe4d937377818187",
            "max": 53,
            "min": 0,
            "orientation": "horizontal",
            "style": "IPY_MODEL_dcd6f340cab045989c5ee193be2d456c",
            "value": 53
          }
        },
        "254f9755a07c4afbabc63eac22cda82d": {
          "model_module": "@jupyter-widgets/controls",
          "model_name": "HTMLModel",
          "model_module_version": "1.5.0",
          "state": {
            "_dom_classes": [],
            "_model_module": "@jupyter-widgets/controls",
            "_model_module_version": "1.5.0",
            "_model_name": "HTMLModel",
            "_view_count": null,
            "_view_module": "@jupyter-widgets/controls",
            "_view_module_version": "1.5.0",
            "_view_name": "HTMLView",
            "description": "",
            "description_tooltip": null,
            "layout": "IPY_MODEL_48e7852b457e4d1382040192f163440f",
            "placeholder": "​",
            "style": "IPY_MODEL_c86dd43088c84309a6b0cef1bbfc07f2",
            "value": " 54/? [03:42&lt;00:00,  3.43s/it]"
          }
        },
        "452ffddf8c164bfb95a55febfd8020e3": {
          "model_module": "@jupyter-widgets/base",
          "model_name": "LayoutModel",
          "model_module_version": "1.2.0",
          "state": {
            "_model_module": "@jupyter-widgets/base",
            "_model_module_version": "1.2.0",
            "_model_name": "LayoutModel",
            "_view_count": null,
            "_view_module": "@jupyter-widgets/base",
            "_view_module_version": "1.2.0",
            "_view_name": "LayoutView",
            "align_content": null,
            "align_items": null,
            "align_self": null,
            "border": null,
            "bottom": null,
            "display": null,
            "flex": null,
            "flex_flow": null,
            "grid_area": null,
            "grid_auto_columns": null,
            "grid_auto_flow": null,
            "grid_auto_rows": null,
            "grid_column": null,
            "grid_gap": null,
            "grid_row": null,
            "grid_template_areas": null,
            "grid_template_columns": null,
            "grid_template_rows": null,
            "height": null,
            "justify_content": null,
            "justify_items": null,
            "left": null,
            "margin": null,
            "max_height": null,
            "max_width": null,
            "min_height": null,
            "min_width": null,
            "object_fit": null,
            "object_position": null,
            "order": null,
            "overflow": null,
            "overflow_x": null,
            "overflow_y": null,
            "padding": null,
            "right": null,
            "top": null,
            "visibility": null,
            "width": null
          }
        },
        "ee6983b8675b473994d0d6b068965005": {
          "model_module": "@jupyter-widgets/base",
          "model_name": "LayoutModel",
          "model_module_version": "1.2.0",
          "state": {
            "_model_module": "@jupyter-widgets/base",
            "_model_module_version": "1.2.0",
            "_model_name": "LayoutModel",
            "_view_count": null,
            "_view_module": "@jupyter-widgets/base",
            "_view_module_version": "1.2.0",
            "_view_name": "LayoutView",
            "align_content": null,
            "align_items": null,
            "align_self": null,
            "border": null,
            "bottom": null,
            "display": null,
            "flex": null,
            "flex_flow": null,
            "grid_area": null,
            "grid_auto_columns": null,
            "grid_auto_flow": null,
            "grid_auto_rows": null,
            "grid_column": null,
            "grid_gap": null,
            "grid_row": null,
            "grid_template_areas": null,
            "grid_template_columns": null,
            "grid_template_rows": null,
            "height": null,
            "justify_content": null,
            "justify_items": null,
            "left": null,
            "margin": null,
            "max_height": null,
            "max_width": null,
            "min_height": null,
            "min_width": null,
            "object_fit": null,
            "object_position": null,
            "order": null,
            "overflow": null,
            "overflow_x": null,
            "overflow_y": null,
            "padding": null,
            "right": null,
            "top": null,
            "visibility": null,
            "width": null
          }
        },
        "5f045ce235304856b68b86f61e0395e3": {
          "model_module": "@jupyter-widgets/controls",
          "model_name": "DescriptionStyleModel",
          "model_module_version": "1.5.0",
          "state": {
            "_model_module": "@jupyter-widgets/controls",
            "_model_module_version": "1.5.0",
            "_model_name": "DescriptionStyleModel",
            "_view_count": null,
            "_view_module": "@jupyter-widgets/base",
            "_view_module_version": "1.2.0",
            "_view_name": "StyleView",
            "description_width": ""
          }
        },
        "5a5b273f788a459bbe4d937377818187": {
          "model_module": "@jupyter-widgets/base",
          "model_name": "LayoutModel",
          "model_module_version": "1.2.0",
          "state": {
            "_model_module": "@jupyter-widgets/base",
            "_model_module_version": "1.2.0",
            "_model_name": "LayoutModel",
            "_view_count": null,
            "_view_module": "@jupyter-widgets/base",
            "_view_module_version": "1.2.0",
            "_view_name": "LayoutView",
            "align_content": null,
            "align_items": null,
            "align_self": null,
            "border": null,
            "bottom": null,
            "display": null,
            "flex": null,
            "flex_flow": null,
            "grid_area": null,
            "grid_auto_columns": null,
            "grid_auto_flow": null,
            "grid_auto_rows": null,
            "grid_column": null,
            "grid_gap": null,
            "grid_row": null,
            "grid_template_areas": null,
            "grid_template_columns": null,
            "grid_template_rows": null,
            "height": null,
            "justify_content": null,
            "justify_items": null,
            "left": null,
            "margin": null,
            "max_height": null,
            "max_width": null,
            "min_height": null,
            "min_width": null,
            "object_fit": null,
            "object_position": null,
            "order": null,
            "overflow": null,
            "overflow_x": null,
            "overflow_y": null,
            "padding": null,
            "right": null,
            "top": null,
            "visibility": null,
            "width": null
          }
        },
        "dcd6f340cab045989c5ee193be2d456c": {
          "model_module": "@jupyter-widgets/controls",
          "model_name": "ProgressStyleModel",
          "model_module_version": "1.5.0",
          "state": {
            "_model_module": "@jupyter-widgets/controls",
            "_model_module_version": "1.5.0",
            "_model_name": "ProgressStyleModel",
            "_view_count": null,
            "_view_module": "@jupyter-widgets/base",
            "_view_module_version": "1.2.0",
            "_view_name": "StyleView",
            "bar_color": null,
            "description_width": ""
          }
        },
        "48e7852b457e4d1382040192f163440f": {
          "model_module": "@jupyter-widgets/base",
          "model_name": "LayoutModel",
          "model_module_version": "1.2.0",
          "state": {
            "_model_module": "@jupyter-widgets/base",
            "_model_module_version": "1.2.0",
            "_model_name": "LayoutModel",
            "_view_count": null,
            "_view_module": "@jupyter-widgets/base",
            "_view_module_version": "1.2.0",
            "_view_name": "LayoutView",
            "align_content": null,
            "align_items": null,
            "align_self": null,
            "border": null,
            "bottom": null,
            "display": null,
            "flex": null,
            "flex_flow": null,
            "grid_area": null,
            "grid_auto_columns": null,
            "grid_auto_flow": null,
            "grid_auto_rows": null,
            "grid_column": null,
            "grid_gap": null,
            "grid_row": null,
            "grid_template_areas": null,
            "grid_template_columns": null,
            "grid_template_rows": null,
            "height": null,
            "justify_content": null,
            "justify_items": null,
            "left": null,
            "margin": null,
            "max_height": null,
            "max_width": null,
            "min_height": null,
            "min_width": null,
            "object_fit": null,
            "object_position": null,
            "order": null,
            "overflow": null,
            "overflow_x": null,
            "overflow_y": null,
            "padding": null,
            "right": null,
            "top": null,
            "visibility": null,
            "width": null
          }
        },
        "c86dd43088c84309a6b0cef1bbfc07f2": {
          "model_module": "@jupyter-widgets/controls",
          "model_name": "DescriptionStyleModel",
          "model_module_version": "1.5.0",
          "state": {
            "_model_module": "@jupyter-widgets/controls",
            "_model_module_version": "1.5.0",
            "_model_name": "DescriptionStyleModel",
            "_view_count": null,
            "_view_module": "@jupyter-widgets/base",
            "_view_module_version": "1.2.0",
            "_view_name": "StyleView",
            "description_width": ""
          }
        },
        "cf78dd8c2cd74006b50366db7eaec3fb": {
          "model_module": "@jupyter-widgets/controls",
          "model_name": "HBoxModel",
          "model_module_version": "1.5.0",
          "state": {
            "_dom_classes": [],
            "_model_module": "@jupyter-widgets/controls",
            "_model_module_version": "1.5.0",
            "_model_name": "HBoxModel",
            "_view_count": null,
            "_view_module": "@jupyter-widgets/controls",
            "_view_module_version": "1.5.0",
            "_view_name": "HBoxView",
            "box_style": "",
            "children": [
              "IPY_MODEL_a355d12d83bf4b58b53d6c3a1e3d43e7",
              "IPY_MODEL_d33379ca9876484880ce5f47066c3691",
              "IPY_MODEL_c4ab52667a11432facc10f10a8d64684"
            ],
            "layout": "IPY_MODEL_fd215032cdab4f6ea31afef6ce61bf1b"
          }
        },
        "a355d12d83bf4b58b53d6c3a1e3d43e7": {
          "model_module": "@jupyter-widgets/controls",
          "model_name": "HTMLModel",
          "model_module_version": "1.5.0",
          "state": {
            "_dom_classes": [],
            "_model_module": "@jupyter-widgets/controls",
            "_model_module_version": "1.5.0",
            "_model_name": "HTMLModel",
            "_view_count": null,
            "_view_module": "@jupyter-widgets/controls",
            "_view_module_version": "1.5.0",
            "_view_name": "HTMLView",
            "description": "",
            "description_tooltip": null,
            "layout": "IPY_MODEL_6b1b7509ac964584a53e95e6c337800c",
            "placeholder": "​",
            "style": "IPY_MODEL_fef5632b01d54f1d857297668d13626e",
            "value": "  8%"
          }
        },
        "d33379ca9876484880ce5f47066c3691": {
          "model_module": "@jupyter-widgets/controls",
          "model_name": "FloatProgressModel",
          "model_module_version": "1.5.0",
          "state": {
            "_dom_classes": [],
            "_model_module": "@jupyter-widgets/controls",
            "_model_module_version": "1.5.0",
            "_model_name": "FloatProgressModel",
            "_view_count": null,
            "_view_module": "@jupyter-widgets/controls",
            "_view_module_version": "1.5.0",
            "_view_name": "ProgressView",
            "bar_style": "danger",
            "description": "",
            "description_tooltip": null,
            "layout": "IPY_MODEL_a7aa28ffd3244dbdb3de866771b8483e",
            "max": 93,
            "min": 0,
            "orientation": "horizontal",
            "style": "IPY_MODEL_aebdfbc58e86446db743c58798cba0f6",
            "value": 7
          }
        },
        "c4ab52667a11432facc10f10a8d64684": {
          "model_module": "@jupyter-widgets/controls",
          "model_name": "HTMLModel",
          "model_module_version": "1.5.0",
          "state": {
            "_dom_classes": [],
            "_model_module": "@jupyter-widgets/controls",
            "_model_module_version": "1.5.0",
            "_model_name": "HTMLModel",
            "_view_count": null,
            "_view_module": "@jupyter-widgets/controls",
            "_view_module_version": "1.5.0",
            "_view_name": "HTMLView",
            "description": "",
            "description_tooltip": null,
            "layout": "IPY_MODEL_5275dfd433a74d889debe4a1ac3d20cd",
            "placeholder": "​",
            "style": "IPY_MODEL_1f1dc98474034f6da647c698cb956a63",
            "value": " 7/93 [00:09&lt;01:48,  1.26s/it]"
          }
        },
        "fd215032cdab4f6ea31afef6ce61bf1b": {
          "model_module": "@jupyter-widgets/base",
          "model_name": "LayoutModel",
          "model_module_version": "1.2.0",
          "state": {
            "_model_module": "@jupyter-widgets/base",
            "_model_module_version": "1.2.0",
            "_model_name": "LayoutModel",
            "_view_count": null,
            "_view_module": "@jupyter-widgets/base",
            "_view_module_version": "1.2.0",
            "_view_name": "LayoutView",
            "align_content": null,
            "align_items": null,
            "align_self": null,
            "border": null,
            "bottom": null,
            "display": null,
            "flex": null,
            "flex_flow": null,
            "grid_area": null,
            "grid_auto_columns": null,
            "grid_auto_flow": null,
            "grid_auto_rows": null,
            "grid_column": null,
            "grid_gap": null,
            "grid_row": null,
            "grid_template_areas": null,
            "grid_template_columns": null,
            "grid_template_rows": null,
            "height": null,
            "justify_content": null,
            "justify_items": null,
            "left": null,
            "margin": null,
            "max_height": null,
            "max_width": null,
            "min_height": null,
            "min_width": null,
            "object_fit": null,
            "object_position": null,
            "order": null,
            "overflow": null,
            "overflow_x": null,
            "overflow_y": null,
            "padding": null,
            "right": null,
            "top": null,
            "visibility": null,
            "width": null
          }
        },
        "6b1b7509ac964584a53e95e6c337800c": {
          "model_module": "@jupyter-widgets/base",
          "model_name": "LayoutModel",
          "model_module_version": "1.2.0",
          "state": {
            "_model_module": "@jupyter-widgets/base",
            "_model_module_version": "1.2.0",
            "_model_name": "LayoutModel",
            "_view_count": null,
            "_view_module": "@jupyter-widgets/base",
            "_view_module_version": "1.2.0",
            "_view_name": "LayoutView",
            "align_content": null,
            "align_items": null,
            "align_self": null,
            "border": null,
            "bottom": null,
            "display": null,
            "flex": null,
            "flex_flow": null,
            "grid_area": null,
            "grid_auto_columns": null,
            "grid_auto_flow": null,
            "grid_auto_rows": null,
            "grid_column": null,
            "grid_gap": null,
            "grid_row": null,
            "grid_template_areas": null,
            "grid_template_columns": null,
            "grid_template_rows": null,
            "height": null,
            "justify_content": null,
            "justify_items": null,
            "left": null,
            "margin": null,
            "max_height": null,
            "max_width": null,
            "min_height": null,
            "min_width": null,
            "object_fit": null,
            "object_position": null,
            "order": null,
            "overflow": null,
            "overflow_x": null,
            "overflow_y": null,
            "padding": null,
            "right": null,
            "top": null,
            "visibility": null,
            "width": null
          }
        },
        "fef5632b01d54f1d857297668d13626e": {
          "model_module": "@jupyter-widgets/controls",
          "model_name": "DescriptionStyleModel",
          "model_module_version": "1.5.0",
          "state": {
            "_model_module": "@jupyter-widgets/controls",
            "_model_module_version": "1.5.0",
            "_model_name": "DescriptionStyleModel",
            "_view_count": null,
            "_view_module": "@jupyter-widgets/base",
            "_view_module_version": "1.2.0",
            "_view_name": "StyleView",
            "description_width": ""
          }
        },
        "a7aa28ffd3244dbdb3de866771b8483e": {
          "model_module": "@jupyter-widgets/base",
          "model_name": "LayoutModel",
          "model_module_version": "1.2.0",
          "state": {
            "_model_module": "@jupyter-widgets/base",
            "_model_module_version": "1.2.0",
            "_model_name": "LayoutModel",
            "_view_count": null,
            "_view_module": "@jupyter-widgets/base",
            "_view_module_version": "1.2.0",
            "_view_name": "LayoutView",
            "align_content": null,
            "align_items": null,
            "align_self": null,
            "border": null,
            "bottom": null,
            "display": null,
            "flex": null,
            "flex_flow": null,
            "grid_area": null,
            "grid_auto_columns": null,
            "grid_auto_flow": null,
            "grid_auto_rows": null,
            "grid_column": null,
            "grid_gap": null,
            "grid_row": null,
            "grid_template_areas": null,
            "grid_template_columns": null,
            "grid_template_rows": null,
            "height": null,
            "justify_content": null,
            "justify_items": null,
            "left": null,
            "margin": null,
            "max_height": null,
            "max_width": null,
            "min_height": null,
            "min_width": null,
            "object_fit": null,
            "object_position": null,
            "order": null,
            "overflow": null,
            "overflow_x": null,
            "overflow_y": null,
            "padding": null,
            "right": null,
            "top": null,
            "visibility": null,
            "width": null
          }
        },
        "aebdfbc58e86446db743c58798cba0f6": {
          "model_module": "@jupyter-widgets/controls",
          "model_name": "ProgressStyleModel",
          "model_module_version": "1.5.0",
          "state": {
            "_model_module": "@jupyter-widgets/controls",
            "_model_module_version": "1.5.0",
            "_model_name": "ProgressStyleModel",
            "_view_count": null,
            "_view_module": "@jupyter-widgets/base",
            "_view_module_version": "1.2.0",
            "_view_name": "StyleView",
            "bar_color": null,
            "description_width": ""
          }
        },
        "5275dfd433a74d889debe4a1ac3d20cd": {
          "model_module": "@jupyter-widgets/base",
          "model_name": "LayoutModel",
          "model_module_version": "1.2.0",
          "state": {
            "_model_module": "@jupyter-widgets/base",
            "_model_module_version": "1.2.0",
            "_model_name": "LayoutModel",
            "_view_count": null,
            "_view_module": "@jupyter-widgets/base",
            "_view_module_version": "1.2.0",
            "_view_name": "LayoutView",
            "align_content": null,
            "align_items": null,
            "align_self": null,
            "border": null,
            "bottom": null,
            "display": null,
            "flex": null,
            "flex_flow": null,
            "grid_area": null,
            "grid_auto_columns": null,
            "grid_auto_flow": null,
            "grid_auto_rows": null,
            "grid_column": null,
            "grid_gap": null,
            "grid_row": null,
            "grid_template_areas": null,
            "grid_template_columns": null,
            "grid_template_rows": null,
            "height": null,
            "justify_content": null,
            "justify_items": null,
            "left": null,
            "margin": null,
            "max_height": null,
            "max_width": null,
            "min_height": null,
            "min_width": null,
            "object_fit": null,
            "object_position": null,
            "order": null,
            "overflow": null,
            "overflow_x": null,
            "overflow_y": null,
            "padding": null,
            "right": null,
            "top": null,
            "visibility": null,
            "width": null
          }
        },
        "1f1dc98474034f6da647c698cb956a63": {
          "model_module": "@jupyter-widgets/controls",
          "model_name": "DescriptionStyleModel",
          "model_module_version": "1.5.0",
          "state": {
            "_model_module": "@jupyter-widgets/controls",
            "_model_module_version": "1.5.0",
            "_model_name": "DescriptionStyleModel",
            "_view_count": null,
            "_view_module": "@jupyter-widgets/base",
            "_view_module_version": "1.2.0",
            "_view_name": "StyleView",
            "description_width": ""
          }
        }
      }
    },
    "accelerator": "GPU"
  },
  "nbformat": 4,
  "nbformat_minor": 0
}